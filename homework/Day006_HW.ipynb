{
 "cells": [
  {
   "cell_type": "markdown",
   "metadata": {},
   "source": [
    "# API 資料串接 - 以 知乎 API 實作範例\n",
    "\n",
    "\n",
    "\n",
    "* 了解知乎 API 使用方式與回傳內容\n",
    "* 撰寫程式存取 API 且添加標頭\n",
    "\n",
    "\n"
   ]
  },
  {
   "cell_type": "markdown",
   "metadata": {},
   "source": [
    "## 作業目標\n",
    "\n",
    "* 根據範例提供的 API ，完成以下問題：\n",
    "\n",
    "    1. 取出知乎問題發問時間\n",
    "    2. 取出第一筆與最後一筆回答的時間\n"
   ]
  },
  {
   "cell_type": "markdown",
   "metadata": {},
   "source": [
    "### 1. 取出知乎問題發問時間"
   ]
  },
  {
   "cell_type": "code",
   "execution_count": 20,
   "metadata": {},
   "outputs": [
    {
     "name": "stdout",
     "output_type": "stream",
     "text": "2019-04-01 10:17:08\n2019-05-14 17:00:12\n2020-03-26 21:04:14\n2017-05-02 10:45:13\n2019-10-29 11:07:06\n0    2019-04-01 10:17:08\n1    2019-05-14 17:00:12\n2    2020-03-26 21:04:14\n3    2017-05-02 10:45:13\n4    2019-10-29 11:07:06\nName: time, dtype: object\n"
    }
   ],
   "source": [
    "# 1. 取出知乎問題發問時間\n",
    "# html headers User-Agent\n",
    "# 沒加會遇到400 request\n",
    "# 透過瀏覽器->F12->左上方Network->左方任意Name->Request Headers->User-Agent\n",
    "# 'Mozilla/5.0' 'AppleWebKit/537.36' 'Chrome/81.0.4044.92' 'Safari/537.36'\n",
    "import json\n",
    "import pandas as pd\n",
    "import requests\n",
    "import time\n",
    "\n",
    "# 時間戳轉為時間格式\n",
    "def time_change(timestamp):\n",
    "\n",
    "    time_local = time.localtime(timestamp)\n",
    "    dt = time.strftime(\"%Y-%m-%d %H:%M:%S\",time_local)\n",
    "    return dt\n",
    "\n",
    "headers = {'user-agent': 'Chrome/81.0.4044.92'}\n",
    "r = requests.get('https://www.zhihu.com/api/v4/questions/55493026/answers',headers=headers)\n",
    "jrt = json.loads(r.text)\n",
    "\n",
    "# dict作法\n",
    "for i in range(len(jrt['data'])):\n",
    "    print(time_change(jrt['data'][i]['created_time']))\n",
    "\n",
    "# df作法\n",
    "df = pd.DataFrame(jrt['data'])\n",
    "df['time'] = df['created_time'].apply(time_change)\n",
    "print(df['time'])\n"
   ]
  },
  {
   "cell_type": "markdown",
   "metadata": {},
   "source": [
    "### 2. 取出第一筆與最後一筆回答的時間"
   ]
  },
  {
   "cell_type": "code",
   "execution_count": 24,
   "metadata": {},
   "outputs": [
    {
     "name": "stdout",
     "output_type": "stream",
     "text": "0    2019-05-21 23:13:38\nName: updated_time, dtype: object\n4    2020-04-18 22:34:33\nName: updated_time, dtype: object\n"
    },
    {
     "data": {
      "text/plain": "'\\nYour Code\\n'"
     },
     "execution_count": 24,
     "metadata": {},
     "output_type": "execute_result"
    }
   ],
   "source": [
    "# 2. 取出第一筆與最後一筆回答的時間\n",
    "print(df.head(1)['updated_time'].apply(time_change))\n",
    "print(df.tail(1)['updated_time'].apply(time_change))\n",
    "'''\n",
    "Your Code\n",
    "'''"
   ]
  }
 ],
 "metadata": {
  "kernelspec": {
   "display_name": "Python 3",
   "language": "python",
   "name": "python3"
  },
  "language_info": {
   "codemirror_mode": {
    "name": "ipython",
    "version": 3
   },
   "file_extension": ".py",
   "mimetype": "text/x-python",
   "name": "python",
   "nbconvert_exporter": "python",
   "pygments_lexer": "ipython3",
   "version": "3.6.8-final"
  }
 },
 "nbformat": 4,
 "nbformat_minor": 2
}