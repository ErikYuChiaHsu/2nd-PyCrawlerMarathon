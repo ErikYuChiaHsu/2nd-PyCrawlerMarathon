{
 "cells": [
  {
   "cell_type": "markdown",
   "metadata": {},
   "source": [
    "# Ettoday 網路爬蟲實作練習\n",
    "\n",
    "\n",
    "* 能夠利用 Request + BeatifulSour 撰寫爬蟲，並存放到合適的資料結構\n"
   ]
  },
  {
   "cell_type": "markdown",
   "metadata": {},
   "source": [
    "## 作業目標\n",
    "\n",
    "根據範例：\n",
    "\n",
    "1. 取出今天所有的新聞\n",
    "2. 取出現在時間兩小時內的新聞\n",
    "3. 根據範例，取出三天前下午三點到五點的新聞"
   ]
  },
  {
   "cell_type": "markdown",
   "metadata": {},
   "source": [
    "## 1. 取出今天所有的新聞"
   ]
  },
  {
   "cell_type": "code",
   "execution_count": 1,
   "metadata": {},
   "outputs": [
    {
     "output_type": "stream",
     "name": "stdout",
     "text": "finish\n"
    }
   ],
   "source": [
    "from selenium import webdriver\n",
    "from selenium.webdriver.chrome.options import Options\n",
    "from bs4 import BeautifulSoup\n",
    "from datetime import datetime, timedelta \n",
    "import pandas as pd\n",
    "import numpy as np\n",
    "import time\n",
    "import random\n",
    "\n",
    "chrome_options = Options()\n",
    "#關閉瀏覽器跳出訊息\n",
    "prefs = {\n",
    "    'profile.default_content_setting_values' :\n",
    "        {\n",
    "        'notifications' : 2\n",
    "         }\n",
    "}\n",
    "# options.add_experimental_option('prefs',prefs)\n",
    "chrome_options.add_argument(\"--headless\")            #不開啟實體瀏覽器背景執行\n",
    "chrome_options.add_argument(\"--start-maximized\")     #最大化視窗\n",
    "chrome_options.add_argument(\"--incognito\")           #開啟無痕模式\n",
    "\n",
    "browser = webdriver.Chrome(executable_path='chromedriver', options = chrome_options)\n",
    "browser.get(\"https://www.ettoday.net/news/news-list.htm\")\n",
    "\n",
    "for i in range(50):\n",
    "    # browser.implicitly_wait(2)\n",
    "    time.sleep(random.randint(2,5))\n",
    "    # 移動到下方：    \n",
    "    browser.execute_script(\"window.scrollTo(0, 80000);\") # execute_script(\"填寫JS代碼\")\n",
    "\n",
    "print('finish')\n"
   ]
  },
  {
   "cell_type": "code",
   "execution_count": 3,
   "metadata": {},
   "outputs": [
    {
     "output_type": "stream",
     "name": "stdout",
     "text": "date   tag                                   title  \\\n0   2020-06-11 17:17:00    影劇             JK羅琳坦承被家暴、性侵！「要是晚生30年，我會變性」   \n1   2020-06-11 17:17:00  寵物動物          汪姐車禍橫躺路邊！  浪浪弟「伴屍暖守護」…見人靠近伸手警戒   \n2   2020-06-11 17:16:00    社會      「隨便賣，全收1萬2」臉書佯稱賣Switch主機　4嫌詐騙百萬遭聲押   \n3   2020-06-11 17:15:00    大陸       女大生畢業典禮砍室友　2人被砍傷還要攻擊第3女...遭人奪刀阻止！   \n4   2020-06-11 17:15:00  ET車雲  389匹節能油電休旅！BMW X5 xDrive45e開賣只要193.7萬起   \n..                  ...   ...                                     ...   \n578 2020-06-11 00:10:00    影劇             《陳情令》最美師姐披白紗！　宣璐搞定傲嬌BOSS出嫁了   \n579 2020-06-11 00:10:00    時尚           進入微型世界拍「迷你婚紗照」！鑽戒當鞦韆、乘葉子渡河太浪漫   \n580 2020-06-11 00:09:00    社會      左營情侶才為6500元房租大吵　「凌晨突大火」28歲男友床上燒成焦屍   \n581 2020-06-11 00:05:00    政治         韓國瑜派人勸退凱道活動　主辦方回絕嗆「沒擔當」...真相曝光了   \n582 2020-06-11 00:00:00    影劇     小甜甜熱戀眼鏡男…又爆財務危機！　求救謝忻「我比她還需要去咖啡廳打工」   \n\n                                           address  \n0    https://ettoday.net/news/20200611/1735658.htm  \n1    https://ettoday.net/news/20200611/1735215.htm  \n2    https://ettoday.net/news/20200611/1735638.htm  \n3    https://ettoday.net/news/20200611/1735644.htm  \n4    https://ettoday.net/news/20200611/1735634.htm  \n..                                             ...  \n578  https://ettoday.net/news/20200611/1734911.htm  \n579  https://ettoday.net/news/20200611/1730967.htm  \n580  https://ettoday.net/news/20200611/1734961.htm  \n581  https://ettoday.net/news/20200611/1734966.htm  \n582  https://ettoday.net/news/20200611/1734987.htm  \n\n[573 rows x 4 columns]\n"
    }
   ],
   "source": [
    "html_source = browser.page_source #網頁原始碼\n",
    "soup = BeautifulSoup(html_source, \"html5lib\")\n",
    "title_list = soup.find(class_=\"part_list_2\").find_all('h3')\n",
    "\n",
    "df = pd.DataFrame(data = np.zeros(shape=(len(title_list),4)), columns=['date', 'tag', 'title', 'address'])\n",
    "id = 0\n",
    "for t in title_list:\n",
    "    df['date'][id] = t.find(class_='date').text\n",
    "    df['tag'][id] = t.find(class_='tag').text\n",
    "    df['title'][id] = t.find(target='_blank').text\n",
    "    df['address'][id] = 'https://ettoday.net' + t.find('a')['href']\n",
    "    id += 1\n",
    "\n",
    "df['date'] = df['date'].apply(lambda x : datetime.strptime(x, \"%Y/%m/%d %H:%M\"))\n",
    "print(df[df['date'] >= datetime.now().date()])\n",
    "# print(df)\n",
    "# browser.quit();"
   ]
  },
  {
   "cell_type": "markdown",
   "metadata": {},
   "source": [
    "## 2. 取出現在時間兩小時內的新聞"
   ]
  },
  {
   "cell_type": "code",
   "execution_count": 4,
   "metadata": {},
   "outputs": [
    {
     "output_type": "stream",
     "name": "stdout",
     "text": "date   tag                                   title  \\\n0   2020-06-11 17:17:00    影劇             JK羅琳坦承被家暴、性侵！「要是晚生30年，我會變性」   \n1   2020-06-11 17:17:00  寵物動物          汪姐車禍橫躺路邊！  浪浪弟「伴屍暖守護」…見人靠近伸手警戒   \n2   2020-06-11 17:16:00    社會      「隨便賣，全收1萬2」臉書佯稱賣Switch主機　4嫌詐騙百萬遭聲押   \n3   2020-06-11 17:15:00    大陸       女大生畢業典禮砍室友　2人被砍傷還要攻擊第3女...遭人奪刀阻止！   \n4   2020-06-11 17:15:00  ET車雲  389匹節能油電休旅！BMW X5 xDrive45e開賣只要193.7萬起   \n..                  ...   ...                                     ...   \n124 2020-06-11 15:30:00  寵物動物               聽見女娃哭了！柴犬哥哥衝在主人前　網泛淚：可以依靠   \n125 2020-06-11 15:29:00    地方               新北勞大20週年回顧熱烈開展　首屆結業生齊聚回娘家   \n126 2020-06-11 15:29:00    論壇                     王志鵬／對釣魚台應強硬　台灣勿軟弱無力   \n127 2020-06-11 15:28:00    政治          韓國瑜最終上班日！　鄉民憶去年情景...預測下一步：很難不選   \n128 2020-06-11 15:27:00    影劇          生命誕生前爸爸被打、阿公被抓！《當愛再來的時候》給大人的提醒   \n\n                                           address  \n0    https://ettoday.net/news/20200611/1735658.htm  \n1    https://ettoday.net/news/20200611/1735215.htm  \n2    https://ettoday.net/news/20200611/1735638.htm  \n3    https://ettoday.net/news/20200611/1735644.htm  \n4    https://ettoday.net/news/20200611/1735634.htm  \n..                                             ...  \n124  https://ettoday.net/news/20200611/1735325.htm  \n125  https://ettoday.net/news/20200611/1735540.htm  \n126  https://ettoday.net/news/20200611/1735335.htm  \n127  https://ettoday.net/news/20200611/1735377.htm  \n128  https://ettoday.net/news/20200611/1735273.htm  \n\n[129 rows x 4 columns]\n"
    }
   ],
   "source": [
    "\n",
    "now = datetime.now()\n",
    "two_hour = now - timedelta(hours = 2)\n",
    "\n",
    "print(df[df['date'] >= two_hour])\n",
    "\n"
   ]
  },
  {
   "cell_type": "markdown",
   "metadata": {},
   "source": [
    "## 3. 根據範例，取出三天前下午三點到五點的新聞"
   ]
  },
  {
   "cell_type": "code",
   "execution_count": 33,
   "metadata": {},
   "outputs": [
    {
     "output_type": "stream",
     "name": "stdout",
     "text": "finish\n"
    }
   ],
   "source": [
    "now = datetime.now().date()\n",
    "three_days = now - timedelta(days = 3)\n",
    "three_days_str = three_days.strftime(\"%Y-%m-%d\")\n",
    "\n",
    "# browser = webdriver.Chrome(executable_path='chromedriver')\n",
    "browser = webdriver.Chrome(executable_path='chromedriver', options = chrome_options)\n",
    "browser.get(\"https://www.ettoday.net/news/news-list-{}-0.htm\".format(three_days_str))\n",
    "\n",
    "for i in range(50):\n",
    "    # browser.implicitly_wait(2)\n",
    "    time.sleep(random.randint(2,5))\n",
    "    # 移動到下方：    \n",
    "    browser.execute_script(\"window.scrollTo(0, 80000);\") # execute_script(\"填寫JS代碼\")\n",
    "\n",
    "print('finish')"
   ]
  },
  {
   "cell_type": "code",
   "execution_count": 34,
   "metadata": {},
   "outputs": [
    {
     "output_type": "stream",
     "name": "stdout",
     "text": "2020-06-09 00:00:00\n                   date tag                                title  \\\n243 2020-06-09 17:00:00  旅遊        肉肉控快衝！板橋平價厚切牛排超大塊　濃湯、沙拉吧免費嗑到飽   \n244 2020-06-09 16:59:00  財經                 金管會提早取消限空令！　台股3大解封措施   \n245 2020-06-09 16:59:00  地方              山城南投閱讀無障礙　開啟偏鄉兒童廣大的閱讀世界   \n246 2020-06-09 16:59:00  財經            疫情加速新消費趨勢轉型　法人看好宅經濟概念股再創高   \n247 2020-06-09 16:59:00  國際  租屋處驚見「超詭異巨型膠囊」！網神解「昭和奢侈品」...竟獲1萬次轉推   \n..                  ...  ..                                  ...   \n378 2020-06-09 15:03:00  時尚         7個簡單小動作幫你趕走壞情緒　整理房間、假裝笑臉都有用！   \n379 2020-06-09 15:02:00  社會         還韓國瑜公道！杏仁哥籲號召6/13上凱道　北市警局核准了   \n380 2020-06-09 15:01:00  體育         疫情衝擊無賽事影響生計　前大馬羽球國家隊男雙暫時改賣榴槤   \n381 2020-06-09 15:00:00  影劇           全昭旻遭連署退出、詛咒全家　《RM》把觀眾留言板關了   \n382 2020-06-09 15:00:00  旅遊      泡「彈珠汽水」消暑！南方澳一日遊攻略　神秘海岸內行人帶路才能到   \n\n                                           address  \n243  https://ettoday.net/news/20200609/1730557.htm  \n244  https://ettoday.net/news/20200609/1733864.htm  \n245  https://ettoday.net/news/20200609/1733857.htm  \n246  https://ettoday.net/news/20200609/1733841.htm  \n247  https://ettoday.net/news/20200609/1733624.htm  \n..                                             ...  \n378  https://ettoday.net/news/20200609/1733232.htm  \n379  https://ettoday.net/news/20200609/1733600.htm  \n380  https://ettoday.net/news/20200609/1733701.htm  \n381  https://ettoday.net/news/20200609/1733705.htm  \n382  https://ettoday.net/news/20200609/1730505.htm  \n\n[140 rows x 4 columns]\n"
    }
   ],
   "source": [
    "html_source = browser.page_source #網頁原始碼\n",
    "soup = BeautifulSoup(html_source, \"html5lib\")\n",
    "title_list = soup.find(class_=\"part_list_2\").find_all('h3')\n",
    "\n",
    "df = pd.DataFrame(data = np.zeros(shape=(len(title_list),4)), columns=['date', 'tag', 'title', 'address'])\n",
    "id = 0\n",
    "for t in title_list:\n",
    "\n",
    "    df['date'][id] = t.find(class_='date').text\n",
    "    df['tag'][id] = t.find(class_='tag').text\n",
    "    df['title'][id] = t.find(target='_blank').text\n",
    "    df['address'][id] = 'https://ettoday.net' + t.find('a')['href']\n",
    "    id += 1\n",
    "\n",
    "\n",
    "a = datetime(three_days.year, three_days.month, three_days.day)\n",
    "print(a)\n",
    "a = a + timedelta(hours = 15)\n",
    "b = a + timedelta(hours = 2)\n",
    "df['date'] = df['date'].apply(lambda x : datetime.strptime(x, \"%Y/%m/%d %H:%M\"))\n",
    "print(df[(df['date'] >= a) & (df['date'] <= b)])\n",
    "# print(df)"
   ]
  },
  {
   "cell_type": "code",
   "execution_count": null,
   "metadata": {},
   "outputs": [],
   "source": []
  }
 ],
 "metadata": {
  "kernelspec": {
   "display_name": "Python 3",
   "language": "python",
   "name": "python3"
  },
  "language_info": {
   "codemirror_mode": {
    "name": "ipython",
    "version": 3
   },
   "file_extension": ".py",
   "mimetype": "text/x-python",
   "name": "python",
   "nbconvert_exporter": "python",
   "pygments_lexer": "ipython3",
   "version": "3.6.8-final"
  }
 },
 "nbformat": 4,
 "nbformat_minor": 2
}