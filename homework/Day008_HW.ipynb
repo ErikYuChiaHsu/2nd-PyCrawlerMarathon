{
 "cells": [
  {
   "cell_type": "markdown",
   "metadata": {},
   "source": [
    "# 靜態網頁的資料爬蟲策略\n",
    "\n",
    "\n",
    "* 了解靜態網頁的資料爬蟲策略\n",
    "* 認識適用於靜態網頁爬蟲的相關套件工具：Request\n",
    "* 認識適用於靜態網頁爬蟲的相關套件工具：BeatifulSoup"
   ]
  },
  {
   "cell_type": "markdown",
   "metadata": {},
   "source": [
    "## 作業目標\n",
    "\n",
    "利用 Request + BeatifulSoup 爬取下列兩個網站內容並解析：\n",
    "\n",
    "1. Dcared 網址： https://www.dcard.tw/f\n",
    "2. 知乎： https://www.zhihu.com/explore\n",
    "\n",
    "並且回答下面問題：\n",
    "\n",
    "1. Request 取回之後該怎麼取出資料，資料型態是什麼？\n",
    "2. 為什麼要使用 BeatifulSoup 處理？處理後的型態是什麼？\n",
    "3. 觀察一下知乎回來的資料好像有點怪怪的，該怎麼解決？"
   ]
  },
  {
   "cell_type": "markdown",
   "metadata": {},
   "source": [
    "### 1. Dcard 網址： https://www.dcard.tw/f"
   ]
  },
  {
   "cell_type": "code",
   "execution_count": 3,
   "metadata": {},
   "outputs": [],
   "source": [
    "import requests\n",
    "import json\n",
    "import pandas as pd\n",
    "import time\n",
    "import html5lib\n",
    "from bs4 import BeautifulSoup\n",
    ""
   ]
  },
  {
   "cell_type": "code",
   "execution_count": 4,
   "metadata": {
    "tags": [
     "outputPrepend"
    ]
   },
   "outputs": [],
   "source": [
    "url = 'https://www.dcard.tw/f'\n",
    "headers = {'user-agent': 'Chrome/81.0.4044.92'}\n",
    "r = requests.get(url, headers = headers)\n",
    "r.encoding = 'utf-8'\n",
    "response = r.text\n",
    "# print(response[0:3000])\n",
    ""
   ]
  },
  {
   "cell_type": "code",
   "execution_count": 5,
   "metadata": {},
   "outputs": [
    {
     "output_type": "stream",
     "name": "stdout",
     "text": "Request 取回之後該怎麼取出資料，資料型態是什麼？ => <class 'str'>\n"
    }
   ],
   "source": [
    "print('Request 取回之後該怎麼取出資料，資料型態是什麼？ =>', type(response))\n",
    "\n",
    ""
   ]
  },
  {
   "cell_type": "code",
   "execution_count": 13,
   "metadata": {
    "tags": [
     "outputPrepend"
    ]
   },
   "outputs": [
    {
     "output_type": "stream",
     "name": "stdout",
     "text": "為什麼要使用 BeatifulSoup 處理？處理後的型態是什麼？ =>  BeatifulSoup讀取 HTML 原始碼，自動進行解析並產生包含了整個HTML文件的結構樹，可以輕鬆找出任何有興趣的資料了。 <class 'bs4.BeautifulSoup'>\n<!DOCTYPE html>\n<html lang=\"zh-TW\">\n <head itemscope=\"\" itemtype=\"https://schema.org/WebSite\" prefix=\"og: http://ogp.me/ns#\">\n  <meta charset=\"utf-8\"/>\n  <meta content=\"IE=edge\" http-equiv=\"X-UA-Compatible\"/>\n  <meta content=\"width=device-width, initial-scale=1, minimum-scale=1\" name=\"viewport\"/>\n  <meta content=\"default\" name=\"apple-mobile-web-app-status-bar-style\"/>\n  <link href=\"https://fonts.googleapis.com/css?family=Roboto:400,300\" rel=\"stylesheet\" type=\"text/css\"/>\n  <meta content=\"Dcard\" name=\"application-name\"/>\n  <meta content=\"app-id=951353454\" name=\"apple-itunes-app\"/>\n  <meta content=\"#006aa6\" name=\"theme-color\"/>\n  <meta content=\"yes\" name=\"mobile-web-app-capable\"/>\n  <meta content=\"yes\" name=\"apple-mobile-web-app-capable\"/>\n  <meta content=\"light\" name=\"supported-color-schemes\"/>\n  <meta content=\"211628828926493\" property=\"fb:app_id\"/>\n  <meta content=\"178875832200695,577748865730563,1333515469994506,619122564952487,804004803032067,178024805867764\" property=\"fb:pages\"/>\n  <meta content=\"951353454\" property=\"al:ios:app_store_id\"/>\n  <meta content=\"Dcard\" property=\"al:ios:app_name\"/>\n  <meta content=\"com.sparkslab.dcardreader\" property=\"al:android:package\"/>\n  <meta content=\"Dcard\" property=\"al:android:app_name\"/>\n  <link href=\"/_next/static/manifest.json\" rel=\"manifest\"/>\n  <link href=\"/_next/static/images/icon-16-1daa7474e5fe761a7239d12c56b88680.png\" rel=\"icon\" sizes=\"16x16\" type=\"image/png\"/>\n  <link href=\"/_next/static/images/icon-24-7bfd8a52a6756e15edaa617b106a5c55.png\" rel=\"icon\" sizes=\"24x24\" type=\"image/png\"/>\n  <link href=\"/_next/static/images/icon-32-54392e6e864b1f822d54a543ee54a0f9.png\" rel=\"icon\" sizes=\"32x32\" type=\"image/png\"/>\n  <link href=\"/_next/static/images/icon-192-49149beb434e1f6bccac918f6608564c.png\" rel=\"icon\" sizes=\"192x192\" type=\"image/png\"/>\n  <link href=\"/_next/static/images/icon-57-c95fcd930b41dbc6de0495348939582f.png\" rel=\"apple-touch-icon\" sizes=\"57x57\" type=\"image/png\"/>\n  <link href=\"/_next/static/images/icon-72-69b64cb9aadc811dce34ea6ac772cd8f.png\" rel=\"apple-touch-icon\" sizes=\"72x72\" type=\"image/png\"/>\n  <link href=\"/_next/static/images/icon-76-67203a784694f8378d2f51f24970e2f7.png\" rel=\"apple-touch-icon\" sizes=\"76x76\" type=\"image/png\"/>\n  <link href=\"/_next/static/images/icon-114-c58f911deb58868e8cc68ea1e09cc688.png\" rel=\"apple-touch-icon\" sizes=\"114x114\" type=\"image/png\"/>\n  <link href=\"/_next/static/images/icon-120-f3ada61716c0cc460c2cbe72b18fb9b4.png\" rel=\"apple-touch-icon\" sizes=\"120x120\" type=\"image/png\"/>\n  <link href=\"/_next/static/images/icon-144-679d873aa4b58f1117915545d3fdfa1d.png\" rel=\"apple-touch-icon\" sizes=\"144x144\" type=\"image/png\"/>\n  <link href=\"/_next/static/images/icon-152-b7ec982f1f49f590c97611e0e5e9f7f3.png\" rel=\"apple-touch-icon\" sizes=\"152x152\" type=\"image/png\"/>\n  <link href=\"/_next/static/images/icon-180-2665760e1b88b5af7a3cfbdc532bae20.png\" rel=\"apple-touch-icon\" sizes=\"180x180\" type=\"image/png\"/>\n  <link href=\"/_next/static/images/icon-32-54392e6e864b1f822d54a543ee54a0f9.png\" rel=\"shortcut icon\" type=\"image/png\"/>\n  <script>\n  </script>\n </head>\n</html>\n"
    }
   ],
   "source": [
    "print('為什麼要使用 BeatifulSoup 處理？處理後的型態是什麼？ => ', 'BeatifulSoup讀取 HTML 原始碼，自動進行解析並產生包含了整個HTML文件的結構樹，可以輕鬆找出任何有興趣的資料了。',type(soup))\n",
    "\n",
    "soup = BeautifulSoup(response, \"html.parser\")\n",
    "print(soup.prettify())\n",
    "\n"
   ]
  },
  {
   "cell_type": "markdown",
   "metadata": {},
   "source": [
    "### 2. 知乎： https://www.zhihu.com/explore"
   ]
  },
  {
   "cell_type": "code",
   "execution_count": 15,
   "metadata": {},
   "outputs": [
    {
     "output_type": "stream",
     "name": "stdout",
     "text": "<!doctype html>\n<html lang=\"zh\" data-hairline=\"true\" data-theme=\"light\"><head><meta charSet=\"utf-8\"/><title data-react-helmet=\"true\">发现 - 知乎</title><meta name=\"viewport\" content=\"width=device-width,initial-scale=1,maximum-scale=1\"/><meta name=\"renderer\" content=\"webkit\"/><meta name=\"force-rendering\" content=\"webkit\"/><meta http-equiv=\"X-UA-Compatible\" content=\"IE=edge,chrome=1\"/><meta name=\"google-site-verification\" content=\"FTeR0c8arOPKh8c5DYh_9uu98_zJbaWw53J-Sch9MTg\"/><meta name=\"description\" property=\"og:description\" content=\"有问题，上知乎。知乎，可信赖的问答社区，以让每个人高效获得可信赖的解答为使命。知乎凭借认真、专业和友善的社区氛围，结构化、易获得的\n"
    }
   ],
   "source": [
    "url = 'https://www.zhihu.com/explore'\n",
    "headers = {'user-agent': 'Chrome/81.0.4044.92'}\n",
    "r = requests.get(url, headers = headers)\n",
    "r.encoding = 'utf-8'\n",
    "\n",
    "print(r.text[0:600])"
   ]
  },
  {
   "cell_type": "markdown",
   "metadata": {},
   "source": [
    "### 3. 觀察一下知乎回來的資料好像有點怪怪的，該怎麼解決？"
   ]
  },
  {
   "cell_type": "code",
   "execution_count": 17,
   "metadata": {
    "tags": [
     "outputPrepend"
    ]
   },
   "outputs": [
    {
     "output_type": "stream",
     "name": "stdout",
     "text": "tion\\u002F61047210\",\"type\":\"question\",\"id\":61047210,\"answerCount\":91}],\"logo\":\"https:\\u002F\\u002Fpic1.zhimg.com\\u002F50\\u002Fv2-00f8805ec1d10c26f09a8f6a878c77ed_hd.jpg\",\"urlToken\":\"wangluoxiaoshuo\"},\"zshidai\":{\"startAt\":1587981601,\"name\":\"有请 Z 世代\",\"title\":\"有请 Z 世代\",\"color\":\"#b49320\",\"banner\":\"https:\\u002F\\u002Fpic3.zhimg.com\\u002F50\\u002Fv2-2e2e5f566cf047810d64504c5c5e937e_hd.jpg\",\"tinyBanner\":\"https:\\u002F\\u002Fpic1.zhimg.com\\u002F50\\u002Fv2-bd8fb47c509f65b0e840337ce692c0ed_hd.jpg\",\"endAt\":1589364014,\"url\":\"\\u002Froundtables\\u002Fexplore\\u002Fcards\\u002Froundtable\\u002Fzshidai\",\"followersCount\":424,\"intro\":\"接下来向我们走来的，是被称为「Z 世代」的 90 后和 00 后方队。他们风华正茂🐱朝气蓬勃☀️生龙活虎🐯气宇轩昂🏃\",\"isFollowing\":false,\"guests\":[],\"questions\":[{\"followerCount\":7164,\"title\":\"如何评价抖音对青少年的影响？\",\"url\":\"https:\\u002F\\u002Fwww.zhihu.com\\u002Fquestion\\u002F292917130\",\"type\":\"question\",\"id\":292917130,\"answerCount\":1840},{\"followerCount\":5806,\"title\":\"00后想不想生小孩，对于生小孩有什么看法？\",\"url\":\"https:\\u002F\\u002Fwww.zhihu.com\\u002Fquestion\\u002F382512114\",\"type\":\"question\",\"id\":382512114,\"answerCount\":4736},{\"followerCount\":41726,\"title\":\"现在的年轻人吃不了苦吗？\",\"url\":\"https:\\u002F\\u002Fwww.zhihu.com\\u002Fquestion\\u002F275611680\",\"type\":\"question\",\"id\":275611680,\"answerCount\":9178}],\"logo\":\"https:\\u002F\\u002Fpic2.zhimg.com\\u002F50\\u002Fv2-02b12e7c1481c6b049ee156d4527ad1b_hd.jpg\",\"urlToken\":\"zshidai\"}},\"order\":[\"ruhecong0daoruanjian\",\"chuweirenmu\",\"wangluoxiaoshuo\",\"zshidai\"]},\"collections\":{\"32113387\":{\"favitems\":[{\"content\":{\"isCollapsed\":false,\"author\":{\"avatarUrlTemplate\":\"https:\\u002F\\u002Fpic4.zhimg.com\\u002Fv2-e40d0bf7afad28dcee16a6b8ecf53ede_{size}.jpg\",\"type\":\"people\",\"name\":\"浮山旧人\",\"url\":\"http:\\u002F\\u002Fwww.zhihu.com\\u002Fapi\\u002Fv4\\u002Fpeople\\u002F406025390aefe7a415003bbc263e991a\",\"gender\":1,\"userType\":\"people\",\"urlToken\":\"18306338165\",\"isAdvertiser\":false,\"avatarUrl\":\"https:\\u002F\\u002Fpic4.zhimg.com\\u002Fv2-e40d0bf7afad28dcee16a6b8ecf53ede_is.jpg\",\"isOrg\":false,\"headline\":\"律师，前公务员\",\"badge\":[],\"id\":\"406025390aefe7a415003bbc263e991a\"},\"url\":\"http:\\u002F\\u002Fwww.zhihu.com\\u002Fapi\\u002Fv4\\u002Fanswers\\u002F1157151817\",\"excerpt\":\"之前觉得看不起总往领导屋里跑的人，觉得我好好工作，领导看得到。自己管理人后觉得，这家伙虽然工作一般，可是天天过来汇报，起码忠心是有的，那家伙虽然活干的很好，但是没事从来不过来找我，是不想跟我干还是有别的想法。之前觉得给领导送土特产的都是马…\",\"question\":{\"questionType\":\"normal\",\"created\":1511310777,\"url\":\"http:\\u002F\\u002Fwww.zhihu.com\\u002Fapi\\u002Fv4\\u002Fquestions\\u002F68467783\",\"title\":\"哪些事是你当了领导才明白的？\",\"type\":\"question\",\"id\":68467783,\"updatedTime\":1558945035},\"updatedTime\":1587009035,\"thumbnail\":\"\",\"commentCount\":95,\"extras\":\"\",\"answerType\":\"answer\",\"createdTime\":1587009035,\"isCopyable\":true,\"type\":\"answer\",\"id\":1157151817,\"voteupCount\":2170}},{\"content\":{\"isCollapsed\":false,\"author\":{\"avatarUrlTemplate\":\"https:\\u002F\\u002Fpic3.zhimg.com\\u002Fv2-32e5270ae14b0ae93ed257f46277dbe1_{size}.jpg\",\"type\":\"people\",\"name\":\"牛肉味咖啡不加糖\",\"url\":\"http:\\u002F\\u002Fwww.zhihu.com\\u002Fapi\\u002Fv4\\u002Fpeople\\u002Fd80cf5b4f98e17fc8a6fa87c0800706a\",\"gender\":1,\"userType\":\"people\",\"urlToken\":\"ma-si-zhu-40\",\"isAdvertiser\":false,\"avatarUrl\":\"https:\\u002F\\u002Fpic3.zhimg.com\\u002Fv2-32e5270ae14b0ae93ed257f46277dbe1_is.jpg\",\"isOrg\":false,\"headline\":\"Live as if U were to die tomorrow，浪迹天涯，且行且珍惜。\",\"badge\":[],\"id\":\"d80cf5b4f98e17fc8a6fa87c0800706a\"},\"url\":\"http:\\u002F\\u002Fwww.zhihu.com\\u002Fapi\\u002Fv4\\u002Fanswers\\u002F1148282425\",\"excerpt\":\"草根无背景80后，基层做起，十年熬到中层。写的都是些亲身体会，时常自我反省，借这个机会与大家共勉。1，高处不胜寒，越往上走就意味着身边朋友越来越少。要学会克制感情，停止向同事、手下吐露心事，哪怕是穿一条裤子的哥们、死党、心腹。2，多听少说，多…\",\"question\":{\"questionType\":\"normal\",\"created\":1511310777,\"url\":\"http:\\u002F\\u002Fwww.zhihu.com\\u002Fapi\\u002Fv4\\u002Fquestions\\u002F68467783\",\"title\":\"哪些事是你当了领导才明白的？\",\"type\":\"question\",\"id\":68467783,\"updatedTime\":1558945035},\"updatedTime\":1587787879,\"thumbnail\":\"https:\\u002F\\u002Fpic4.zhimg.com\\u002Fv2-785d35e15df62b21791650b27e62b651_200x112.jpg\",\"commentCount\":773,\"extras\":\"\",\"answerType\":\"answer\",\"createdTime\":1586696074,\"isCopyable\":false,\"type\":\"answer\",\"id\":1148282425,\"voteupCount\":23380}}],\"title\":\"商业案例与企业管理\",\"url\":\"http:\\u002F\\u002Fwww.zhihu.com\\u002Fapi\\u002Fv4\\u002Fcollections\\u002F32113387\",\"totalCount\":467,\"creator\":{\"avatarUrlTemplate\":\"https:\\u002F\\u002Fpic2.zhimg.com\\u002Fv2-bfaa609e131ccd193c1378be22558029_{size}.jpg\",\"type\":\"people\",\"name\":\"西西弗斯与石头\",\"url\":\"http:\\u002F\\u002Fwww.zhihu.com\\u002Fapi\\u002Fv4\\u002Fpeople\\u002F41b7d4e511d051c2719908546d242e15\",\"gender\":1,\"userType\":\"people\",\"urlToken\":\"xu-zong-xiang\",\"isAdvertiser\":false,\"avatarUrl\":\"https:\\u002F\\u002Fpic2.zhimg.com\\u002Fv2-bfaa609e131ccd193c1378be22558029_is.jpg\",\"isOrg\":false,\"headline\":\"爱智求真，如饥似渴的追求智慧\",\"badge\":[],\"id\":\"41b7d4e511d051c2719908546d242e15\"},\"isFollowing\":false,\"followerCount\":351,\"isPublic\":true,\"type\":\"collection\",\"id\":32113387},\"38411239\":{\"favitems\":[{\"content\":{\"isCollapsed\":false,\"author\":{\"avatarUrlTemplate\":\"https:\\u002F\\u002Fpic1.zhimg.com\\u002Fv2-c9b05f506ffd01c1501a959e9cafecc7_{size}.jpg\",\"type\":\"people\",\"name\":\"看春碗\",\"url\":\"http:\\u002F\\u002Fwww.zhihu.com\\u002Fapi\\u002Fv4\\u002Fpeople\\u002F6390f2459dbc9ea24bfb2bda471e30ca\",\"gender\":1,\"userType\":\"people\",\"urlToken\":\"kan-chun-wan-45\",\"isAdvertiser\":false,\"avatarUrl\":\"https:\\u002F\\u002Fpic1.zhimg.com\\u002Fv2-c9b05f506ffd01c1501a959e9cafecc7_is.jpg\",\"isOrg\":false,\"headline\":\"苦逼材料狗\",\"badge\":[],\"id\":\"6390f2459dbc9ea24bfb2bda471e30ca\"},\"url\":\"http:\\u002F\\u002Fwww.zhihu.com\\u002Fapi\\u002Fv4\\u002Fanswers\\u002F1185099961\",\"excerpt\":\"段子手就像芝麻，越榨越出油。自古评论出人才 __________________________________________ 1 美国爆发疫情，感染人数达到100人。福西首先说：大家要注意身体健康，政府要赶快封城，可是他的话没人听，几天后感染人数达到1000人。郭杰瑞也随后报道：我们要…\",\"question\":{\"questionType\":\"normal\",\"created\":1586063390,\"url\":\"http:\\u002F\\u002Fwww.zhihu.com\\u002Fapi\\u002Fv4\\u002Fquestions\\u002F385335911\",\"title\":\"如何看待 4 月 28 日美国新冠病毒肺炎确诊人数超过 100 万？对美国会带来哪些影响？\",\"type\":\"question\",\"id\":385335911,\"updatedTime\":1588035192},\"updatedTime\":1588038583,\"thumbnail\":\"https:\\u002F\\u002Fpic2.zhimg.com\\u002Fv2-1191e1655b27a3796f5ae06d6b2e68cf_200x112.jpg\",\"commentCount\":227,\"extras\":\"\",\"answerType\":\"answer\",\"createdTime\":1588028913,\"isCopyable\":true,\"type\":\"answer\",\"id\":1185099961,\"voteupCount\":4452}},{\"content\":{\"isCollapsed\":false,\"author\":{\"avatarUrlTemplate\":\"https:\\u002F\\u002Fpic4.zhimg.com\\u002Fv2-e871e596b8d88e113a9da3f9a4295580_{size}.jpg\",\"type\":\"people\",\"name\":\"易哥\",\"url\":\"http:\\u002F\\u002Fwww.zhihu.com\\u002Fapi\\u002Fv4\\u002Fpeople\\u002Fa3eba260c2b4c8c4b793ddca4f7260a8\",\"gender\":1,\"userType\":\"people\",\"urlToken\":\"yeecode\",\"isAdvertiser\":false,\"avatarUrl\":\"https:\\u002F\\u002Fpic4.zhimg.com\\u002Fv2-e871e596b8d88e113a9da3f9a4295580_is.jpg\",\"isOrg\":false,\"headline\":\"高级软件系统架构师，开源开发者，主页yeecode.top\",\"badge\":[{\"type\":\"identity\",\"description\":\"高级软件系统架构师\"}],\"id\":\"a3eba260c2b4c8c4b793ddca4f7260a8\"},\"url\":\"http:\\u002F\\u002Fwww.zhihu.com\\u002Fapi\\u002Fv4\\u002Fanswers\\u002F1164579350\",\"excerpt\":\"就下面这一行代码。你见识完之后，别忘了给我点赞就好。document.body.contentEditable='true'; 操作如下：在网页中点击F12，任意页面都行。在弹出的调试面板最上面选中Console，然后输入上面这行代码，回车。好了，整个网页你可以随便编辑了。如下面视频所…\",\"question\":{\"questionType\":\"normal\",\"created\":1531793910,\"url\":\"http:\\u002F\\u002Fwww.zhihu.com\\u002Fapi\\u002Fv4\\u002Fquestions\\u002F285586045\",\"title\":\"一行代码可以做什么？\",\"type\":\"question\",\"id\":285586045,\"updatedTime\":1531793910},\"updatedTime\":1587571203,\"thumbnail\":\"https:\\u002F\\u002Fpic2.zhimg.com\\u002Fv2-4eb37c64a4b4b09130fd3cc7f12abe5b_200x112.jpg\",\"commentCount\":331,\"extras\":\"\",\"answerType\":\"answer\",\"createdTime\":1587281193,\"isCopyable\":false,\"type\":\"answer\",\"id\":1164579350,\"voteupCount\":10932}}],\"title\":\"神答案\",\"url\":\"http:\\u002F\\u002Fwww.zhihu.com\\u002Fapi\\u002Fv4\\u002Fcollections\\u002F38411239\",\"totalCount\":1979,\"creator\":{\"avatarUrlTemplate\":\"https:\\u002F\\u002Fpic1.zhimg.com\\u002Fe85b6b147_{size}.jpg\",\"type\":\"people\",\"name\":\"SUNNY CHAN\",\"url\":\"http:\\u002F\\u002Fwww.zhihu.com\\u002Fapi\\u002Fv4\\u002Fpeople\\u002F1d9c0409bbd50eb4a547efc70f326907\",\"gender\":1,\"userType\":\"people\",\"urlToken\":\"sunny-chan\",\"isAdvertiser\":false,\"avatarUrl\":\"https:\\u002F\\u002Fpic1.zhimg.com\\u002Fe85b6b147_is.jpg\",\"isOrg\":false,\"headline\":\"室内有害气体监测与防控\",\"badge\":[],\"id\":\"1d9c0409bbd50eb4a547efc70f326907\"},\"isFollowing\":false,\"followerCount\":622,\"isPublic\":true,\"type\":\"collection\",\"id\":38411239},\"39741640\":{\"favitems\":[{\"content\":{\"updated\":1584850418,\"created\":1584850418,\"url\":\"http:\\u002F\\u002Fzhuanlan.zhihu.com\\u002Fp\\u002F115190028\",\"commentPermission\":\"all\",\"author\":{\"avatarUrlTemplate\":\"https:\\u002F\\u002Fpic3.zhimg.com\\u002Fv2-ca6e7ffc10a0d10edbae635cee82d007_{size}.jpg\",\"type\":\"people\",\"name\":\"量子位\",\"url\":\"http:\\u002F\\u002Fwww.zhihu.com\\u002Fapi\\u002Fv4\\u002Fpeople\\u002F36f69162230003d316d0b8a6d8da20ba\",\"userType\":\"organization\",\"urlToken\":\"liang-zi-wei-48\",\"isAdvertiser\":false,\"avatarUrl\":\"https:\\u002F\\u002Fpic3.zhimg.com\\u002Fv2-ca6e7ffc10a0d10edbae635cee82d007_is.jpg\",\"isOrg\":true,\"headline\":\"有趣的AI&amp;前沿科技→_→ 公众号：QbitAI\",\"badge\":[{\"type\":\"identity\",\"description\":\"已认证的官方帐号\"},{\"type\":\"best_answerer\",\"description\":\"优秀回答者\"}],\"id\":\"36f69162230003d316d0b8a6d8da20ba\"},\"excerpt\":\"晓查 发自 凹非寺 量子位 报道 | 公众号 QbitAI一个低调的AI开发者，凭什么登上B站首页、一个视频百万播放，并且外行内行看了都服气？凭的是硬核纯手工作品——一台“套娃”小电视。而且这可能是史上最硬核的一次“套娃”：在纯手工制作的电视里成功播放了B…\",\"commentCount\":53,\"imageUrl\":\"https:\\u002F\\u002Fpic4.zhimg.com\\u002Fv2-4a4fdd3e770c9185ebb44c10c47a1e62_r.jpg\",\"excerptTitle\":\"\",\"title\":\"这个B站up主太硬核了！纯手工打造AI小电视：硬件自己焊接，驱动代码全手写\",\"type\":\"article\",\"id\":115190028,\"voteupCount\":510}},{\"content\":{\"updated\":1587129315,\"created\":1587128952,\"url\":\"http:\\u002F\\u002Fzhuanlan.zhihu.com\\u002Fp\\u002F132666939\",\"commentPermission\":\"all\",\"author\":{\"avatarUrlTemplate\":\"https:\\u002F\\u002Fpic2.zhimg.com\\u002Fv2-ff697aa2b563adba35deb9525a511c23_{size}.jpg\",\"type\":\"people\",\"name\":\"GitHub Daily\",\"url\":\"http:\\u002F\\u002Fwww.zhihu.com\\u002Fapi\\u002Fv4\\u002Fpeople\\u002F1751d571cd57282c0451bc022ce7c1ce\",\"gender\":1,\"userType\":\"people\",\"urlToken\":\"githubdaily\",\"isAdvertiser\":false,\"avatarUrl\":\"https:\\u002F\\u002Fpic2.zhimg.com\\u002Fv2-ff697aa2b563adba35deb9525a511c23_is.jpg\",\"isOrg\":false,\"headline\":\"公众号：GitHubDaily\",\"badge\":[],\"id\":\"1751d571cd57282c0451bc022ce7c1ce\"},\"excerpt\":\"大家好，我是小 G。今天跟大家推荐一本，比较适合有编程基础的人学习的 Java 书籍：《On Java 8》。作者是技术圈的大佬级人物 Bruce Eckel， 目前为任 MindView 公司总裁，因创作两本书《C++ 编程思想》与《Java 编程思想》而广为人知。其中，《Java 编程思…\",\"commentCount\":15,\"imageUrl\":\"https:\\u002F\\u002Fpic4.zhimg.com\\u002Fv2-c41e2a1527db960ad853a4417f94bdbe_r.jpg\",\"excerptTitle\":\"\",\"title\":\"如果你还没学会 Java，那我强烈建议你看看 GitHub 上的这本开源书籍！\",\"type\":\"article\",\"id\":132666939,\"voteupCount\":389}}],\"title\":\"计算机科学\",\"url\":\"http:\\u002F\\u002Fwww.zhihu.com\\u002Fapi\\u002Fv4\\u002Fcollections\\u002F39741640\",\"totalCount\":2601,\"creator\":{\"avatarUrlTemplate\":\"https:\\u002F\\u002Fpic4.zhimg.com\\u002Fda8e974dc_{size}.jpg\",\"type\":\"people\",\"name\":\"知乎用户\",\"url\":\"http:\\u002F\\u002Fwww.zhihu.com\\u002Fapi\\u002Fv4\\u002Fpeople\\u002F0\",\"gender\":1,\"userType\":\"people\",\"urlToken\":\"\",\"isAdvertiser\":false,\"avatarUrl\":\"https:\\u002F\\u002Fpic4.zhimg.com\\u002Fda8e974dc_is.jpg\",\"isOrg\":false,\"headline\":\"\",\"badge\":[],\"id\":\"3b9210ca4163347e770a15dc1de7c26f\"},\"isFollowing\":false,\"followerCount\":15488,\"isPublic\":true,\"type\":\"collection\",\"id\":39741640},\"40616835\":{\"favitems\":[{\"content\":{\"isCollapsed\":false,\"author\":{\"avatarUrlTemplate\":\"https:\\u002F\\u002Fpic4.zhimg.com\\u002F84c64259efa4dc7b8dee22ae0f69938d_{size}.jpg\",\"type\":\"people\",\"name\":\"辛俊波\",\"url\":\"http:\\u002F\\u002Fwww.zhihu.com\\u002Fapi\\u002Fv4\\u002Fpeople\\u002Fa682c7ce374a160ffd0f1346b8d9b333\",\"gender\":1,\"userType\":\"people\",\"urlToken\":\"xinjunbo\",\"isAdvertiser\":false,\"avatarUrl\":\"https:\\u002F\\u002Fpic4.zhimg.com\\u002F84c64259efa4dc7b8dee22ae0f69938d_is.jpg\",\"isOrg\":false,\"headline\":\"广告ctr\\u002F推荐系统\\u002F机器学习\\u002F\",\"badge\":[],\"id\":\"a682c7ce374a160ffd0f1346b8d9b333\"},\"url\":\"http:\\u002F\\u002Fwww.zhihu.com\\u002Fapi\\u002Fv4\\u002Fanswers\\u002F1172781649\",\"excerpt\":\"关注这个问题有一段时间了，重点说下一种推荐系统最常见的坑：\\u003Cb\\u003E线下auc涨，线上ctr\\u002Fcpm跌\\u003C\\u002Fb\\u003E这两年深度模型大火之后，各个团队都卯足了劲把网络规模做大做深，花了很大力气好不容易离线auc涨了不少，上线一看效果ctr和cpm反而下降。可能的原因有几个：1、特征\\u002F…\",\"question\":{\"questionType\":\"normal\",\"created\":1436925382,\"url\":\"http:\\u002F\\u002Fwww.zhihu.com\\u002Fapi\\u002Fv4\\u002Fquestions\\u002F32218407\",\"title\":\"在你做推荐系统的过程中都遇到过什么坑？\",\"type\":\"question\",\"id\":32218407,\"updatedTime\":1436925382},\"updatedTime\":1587561836,\"thumbnail\":\"https:\\u002F\\u002Fpic3.zhimg.com\\u002Fv2-7c4ede75641f5a32f097e3b7bbbbbe7f_200x112.jpg\",\"commentCount\":25,\"extras\":\"\",\"answerType\":\"answer\",\"createdTime\":1587561552,\"isCopyable\":true,\"type\":\"answer\",\"id\":1172781649,\"voteupCount\":478}},{\"content\":{\"updated\":1549363875,\"created\":1521461572,\"url\":\"http:\\u002F\\u002Fzhuanlan.zhihu.com\\u002Fp\\u002F34655990\",\"commentPermission\":\"all\",\"author\":{\"avatarUrlTemplate\":\"https:\\u002F\\u002Fpic2.zhimg.com\\u002Fv2-3357d3061c0032e9dde09c3495078e47_{size}.jpg\",\"type\":\"people\",\"name\":\"wdmad\",\"url\":\"http:\\u002F\\u002Fwww.zhihu.com\\u002Fapi\\u002Fv4\\u002Fpeople\\u002F4d95e174dbeb0401c2ceb1f5b1990109\",\"gender\":1,\"userType\":\"people\",\"urlToken\":\"jin-xin-62\",\"isAdvertiser\":false,\"avatarUrl\":\"https:\\u002F\\u002Fpic2.zhimg.com\\u002Fv2-3357d3061c0032e9dde09c3495078e47_is.jpg\",\"isOrg\":false,\"headline\":\"\",\"badge\":[],\"id\":\"4d95e174dbeb0401c2ceb1f5b1990109\"},\"excerpt\":\"\\u003Cb\\u003E\\u003Ca href=\\\"https:\\u002F\\u002Fzhuanlan.zhihu.com\\u002Fp\\u002F34473430\\\" class=\\\"internal\\\"\\u003E机器学习之类别不平衡问题 (1) —— 各种评估指标\\u003C\\u002Fa\\u003E\\u003C\\u002Fb\\u003E机器学习之类别不平衡问题 (2) —— ROC和PR曲线\\u003Cb\\u003E\\u003Ca href=\\\"https:\\u002F\\u002Fzhuanlan.zhihu.com\\u002Fp\\u002F41237940\\\" class=\\\"internal\\\"\\u003E机器学习之类别不平衡问题 (3) —— 采样方法\\u003C\\u002Fa\\u003E\\u003C\\u002Fb\\u003E \\u003Ca href=\\\"https:\\u002F\\u002Flink.zhihu.com\\u002F?target=https%3A\\u002F\\u002Fgithub.com\\u002Fmassquantity\\u002FClass-Imbalance\\\" class=\\\" wrap external\\\" target=\\\"_blank\\\" rel=\\\"nofollow noreferrer\\\"\\u003E完整代码\\u003C\\u002Fa\\u003E ROC曲线和PR（Precision - Recall）曲线皆为类别不平衡问题中常用的评估方法，二者既有相同也有不同点…\",\"commentCount\":15,\"imageUrl\":\"https:\\u002F\\u002Fpic2.zhimg.com\\u002Fv2-661ba398416edcdd4bc2826b966f80fd_r.jpg\",\"excerptTitle\":\"\",\"title\":\"机器学习之类别不平衡问题 (2) —— ROC和PR曲线\",\"type\":\"article\",\"id\":34655990,\"voteupCount\":143}}],\"title\":\"机器学习\",\"url\":\"http:\\u002F\\u002Fwww.zhihu.com\\u002Fapi\\u002Fv4\\u002Fcollections\\u002F40616835\",\"totalCount\":1813,\"creator\":{\"avatarUrlTemplate\":\"https:\\u002F\\u002Fpic2.zhimg.com\\u002F9a9017540222bfbb861a71f2f208e804_{size}.jpg\",\"type\":\"people\",\"name\":\"Rocco\",\"url\":\"http:\\u002F\\u002Fwww.zhihu.com\\u002Fapi\\u002Fv4\\u002Fpeople\\u002F2b253c4aedffe061a9562fa47a628010\",\"gender\":1,\"userType\":\"people\",\"urlToken\":\"chen-cheng-53-43\",\"isAdvertiser\":false,\"avatarUrl\":\"https:\\u002F\\u002Fpic2.zhimg.com\\u002F9a9017540222bfbb861a71f2f208e804_is.jpg\",\"isOrg\":false,\"headline\":\"NLPer\",\"badge\":[],\"id\":\"2b253c4aedffe061a9562fa47a628010\"},\"isFollowing\":false,\"followerCount\":2823,\"isPublic\":true,\"type\":\"collection\",\"id\":40616835}},\"columns\":{\"jyzyx0\":{\"updated\":1574747037,\"description\":\"金融经济知识普及国际风险事件分析，个人观点解读。这里是金融爱好者的天堂，现在以及未来的世界，你不关注金融，不关注投资，你将被这个世界所抛弃，因为你赚钱的速度永远赶不上印钞的速度，作者张尧浠，武汉科技大学国际金融专业经济学学士，注册黄金投资分析师，中国贵金属行业协会认证金融分析师，网易问吧财经金融专家。多年投行及黄金投资研究经验，著有《黄金投资交易宝》一书。\",\"columnType\":\"legacy\",\"intro\":\"贵金属，外汇，股市等投资观点分析、技术理论干货普及\",\"urlToken\":\"jyzyx0\",\"id\":\"jyzyx0\",\"articlesCount\":1880,\"acceptSubmission\":true,\"title\":\"张尧浠:《玩赚黄金投资交易》\",\"url\":\"https:\\u002F\\u002Fzhuanlan.zhihu.com\\u002Fjyzyx0\",\"commentPermission\":\"all\",\"created\":1503300536,\"imageUrl\":\"https:\\u002F\\u002Fpic4.zhimg.com\\u002Fv2-034d9ac552750046496bc62437feb7cc_b.jpg\",\"followers\":821,\"type\":\"column\"},\"abcwj\":{\"updated\":1583376673,\"description\":\"网聚创业分享互联网科技类、网络营销推广类、网站建设类、创业知识经验分享类等各类资讯信息，让您全方位了解不同的知识。\",\"columnType\":\"legacy\",\"intro\":\"互联网科技创业资讯，分享不同的观点！\",\"urlToken\":\"abcwj\",\"id\":\"abcwj\",\"articlesCount\":678,\"acceptSubmission\":true,\"title\":\"网聚创业\",\"url\":\"https:\\u002F\\u002Fzhuanlan.zhihu.com\\u002Fabcwj\",\"commentPermission\":\"all\",\"created\":1391738517,\"imageUrl\":\"https:\\u002F\\u002Fpic3.zhimg.com\\u002Fv2-16474427d2d2e7890aed270299785753_b.jpg\",\"followers\":6356,\"type\":\"column\"},\"Creep-1212\":{\"updated\":1562882751,\"description\":\"又黑又吹，没有干货，菠菜输光，下海干活！\",\"columnType\":\"legacy\",\"intro\":\"DOTA2 赛事回顾\",\"urlToken\":\"Creep-1212\",\"id\":\"Creep-1212\",\"articlesCount\":603,\"acceptSubmission\":false,\"title\":\"DogeGamer\",\"url\":\"https:\\u002F\\u002Fzhuanlan.zhihu.com\\u002FCreep-1212\",\"commentPermission\":\"all\",\"created\":1461743044,\"imageUrl\":\"https:\\u002F\\u002Fpic4.zhimg.com\\u002Fv2-b7024f6228f19b5d8051fc30ff3a548b_b.jpg\",\"followers\":4756,\"type\":\"column\"},\"SJYX666\":{\"updated\":1561612919,\"description\":\"“视觉营销（VMD）”由来已久，最初我们谈到视觉营销想到的都是陈列、装饰、卖场，是一些具象的东西。\\n 随着时代的发展，电子商务势头越发的威猛，视觉营销这一传统行业的惯用手段也逐渐融入到了网络世界，变得抽象化、多元化，并越来越被重视。\\n传统行业中的视觉营销，重点在于陈列师对环境氛围的布置、主题的强调。\",\"columnType\":\"legacy\",\"intro\":\"产品进入视线--信息传递到大脑-产生购买欲望-形成购买\",\"urlToken\":\"SJYX666\",\"id\":\"SJYX666\",\"articlesCount\":545,\"acceptSubmission\":true,\"title\":\"电商淘宝视觉营销\",\"url\":\"https:\\u002F\\u002Fzhuanlan.zhihu.com\\u002FSJYX666\",\"commentPermission\":\"all\",\"created\":1487329327,\"imageUrl\":\"https:\\u002F\\u002Fpic1.zhimg.com\\u002Fv2-b607fd36b9c4ca3fe1730faf261fce7a_b.jpg\",\"followers\":11051,\"type\":\"column\"}}},\"articles\":{\"voters\":{}},\"favlists\":{\"relations\":{}},\"pins\":{\"reviewing\":{}},\"topstory\":{\"recommend\":{\"isFetching\":false,\"isDrained\":false,\"afterId\":0,\"items\":[],\"next\":null},\"follow\":{\"isFetching\":false,\"isDrained\":false,\"afterId\":0,\"items\":[],\"next\":null},\"followWonderful\":{\"isFetching\":false,\"isDrained\":false,\"afterId\":0,\"items\":[],\"next\":null},\"sidebar\":null,\"announcement\":{},\"hotListCategories\":[],\"hotList\":[],\"guestFeeds\":{\"isFetching\":false,\"isDrained\":false,\"afterId\":0,\"items\":[],\"next\":null},\"followExtra\":{\"isNewUser\":null,\"isFetched\":false,\"followCount\":0,\"followers\":[]}},\"upload\":{},\"video\":{\"data\":{},\"shareVideoDetail\":{},\"last\":{}},\"zvideos\":{\"campaigns\":{},\"tagoreCategory\":[],\"recommendations\":{}},\"guide\":{\"guide\":{\"isFetching\":false,\"isShowGuide\":false}},\"reward\":{\"answer\":{},\"article\":{},\"question\":{}},\"search\":{\"recommendSearch\":[],\"topSearch\":{},\"searchValue\":{},\"suggestSearch\":{},\"attachedInfo\":{},\"nextOffset\":{},\"topicReview\":{},\"generalByQuery\":{},\"generalByQueryInADay\":{},\"generalByQueryInAWeek\":{},\"generalByQueryInThreeMonths\":{},\"peopleByQuery\":{},\"topicByQuery\":{},\"columnByQuery\":{},\"liveByQuery\":{},\"albumByQuery\":{},\"eBookByQuery\":{},\"kmGeneralByQuery\":{}},\"publicEditPermission\":{},\"readStatus\":{},\"draftHistory\":{\"history\":{},\"drafts\":{}},\"notifications\":{\"recent\":{\"isFetching\":false,\"isDrained\":false,\"isPrevDrained\":false,\"result\":[],\"next\":null,\"key\":null},\"history\":{\"isFetching\":false,\"isDrained\":false,\"isPrevDrained\":false,\"result\":[],\"next\":null,\"key\":null},\"notificationActors\":{\"isFetching\":false,\"isDrained\":false,\"isPrevDrained\":false,\"result\":[],\"next\":null,\"key\":null},\"recentNotificationEntry\":\"all\"},\"specials\":{\"entities\":{},\"all\":{\"data\":[],\"paging\":{},\"isLoading\":false}},\"collections\":{\"hot\":{\"data\":[],\"paging\":{},\"isLoading\":false},\"collectionFeeds\":{}},\"mcn\":{\"bindInfo\":{},\"memberCategoryList\":[],\"producerList\":[],\"categoryList\":[],\"lists\":{}},\"mcnActivity\":{\"household\":{\"products\":{},\"rankList\":{\"total\":{},\"yesterday\":{}}}},\"brand\":{\"contentPlugin\":{}},\"metaLink\":{\"metaLinkTemplate\":{}},\"host\":{\"roundtable\":{\"subjects\":{},\"applications\":{\"total\":0},\"online\":{\"total\":0},\"applies\":{},\"details\":{},\"includedResource\":{},\"hotQuestions\":{},\"warmupContents\":{},\"batchInclude\":{}},\"special\":{\"applications\":{\"total\":0,\"pages\":{},\"entities\":{}},\"censorHistory\":{},\"drafts\":{}}},\"campaign\":{\"single\":{},\"featuredQuestions\":{}},\"knowledgePlan\":{\"lists\":{},\"allCreationRankList\":{},\"featuredQuestions\":{}},\"wallE\":{\"protectHistory\":{\"total\":0,\"pages\":{},\"entities\":{}}},\"roundtables\":{\"hotQuestions\":{},\"warmupContents\":{},\"hotDiscussions\":{},\"selectedContents\":{},\"roundtables\":{}},\"helpCenter\":{\"entities\":{\"question\":{},\"category\":{}},\"categories\":[],\"commonQuestions\":[],\"relatedQuestions\":{}}},\"subAppName\":\"main\"}\n  </script>\n  <script src=\"https://static.zhihu.com/heifetz/vendor.ba70ddaa2bce5b55c642.js\">\n  </script>\n  <script src=\"https://static.zhihu.com/heifetz/main.app.d1a539d877ee3c2dfbbd.js\">\n  </script>\n  <script src=\"https://static.zhihu.com/heifetz/main.explore-routes.50f51c10ed3a5c66a8e2.js\">\n  </script>\n </body>\n <script async=\"\" src=\"https://hm.baidu.com/hm.js?98beee57fd2ef70ccdd5ca52b9740c49\">\n </script>\n <script async=\"\" src=\"https://zz.bdstatic.com/linksubmit/push.js\">\n </script>\n</html>\n"
    }
   ],
   "source": [
    "import requests\n",
    "url = 'https://www.zhihu.com/explore'\n",
    "\n",
    "'''\n",
    "Your Code Here\n",
    "'''\n",
    "r = requests.get(url, headers = headers)\n",
    "r.encoding = 'utf-8'\n",
    "# print(r.text[0:600])\n",
    "response = r.text\n",
    "soup = BeautifulSoup(response, \"html.parser\")\n",
    "print(soup.prettify())"
   ]
  },
  {
   "cell_type": "code",
   "execution_count": null,
   "metadata": {},
   "outputs": [],
   "source": []
  }
 ],
 "metadata": {
  "kernelspec": {
   "display_name": "Python 3",
   "language": "python",
   "name": "python3"
  },
  "language_info": {
   "codemirror_mode": {
    "name": "ipython",
    "version": 3
   },
   "file_extension": ".py",
   "mimetype": "text/x-python",
   "name": "python",
   "nbconvert_exporter": "python",
   "pygments_lexer": "ipython3",
   "version": "3.6.8-final"
  }
 },
 "nbformat": 4,
 "nbformat_minor": 2
}