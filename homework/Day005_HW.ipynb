{
 "cells": [
  {
   "cell_type": "markdown",
   "metadata": {},
   "source": [
    "# API 資料串接 - 以 Dcard API 實作範例\n",
    "\n",
    "* 了解 Dcard API 使用方式與回傳內容\n",
    "* 撰寫程式存取 API 且解析 JSON 格式資料\n"
   ]
  },
  {
   "cell_type": "markdown",
   "metadata": {},
   "source": [
    "## 作業目標\n",
    "\n",
    "* 請利用 API: https://www.dcard.tw/_api/forums/pet/posts?popular=true 回答下列問題：\n",
    "\n",
    "1. 這個 API 一次會回傳幾筆資料？每一筆資料包含哪些欄位？\n",
    "2. 取出每一筆資料的「標題」、「貼文時間」、「留言人數」、「按讚人數」\n",
    "3. 計算熱門/非熱門文章的「平均留言人數」與「平均按讚人數」"
   ]
  },
  {
   "cell_type": "code",
   "execution_count": 11,
   "metadata": {},
   "outputs": [
    {
     "name": "stdout",
     "output_type": "stream",
     "text": "Index(['id', 'title', 'excerpt', 'anonymousSchool', 'anonymousDepartment',\n       'pinned', 'forumId', 'replyId', 'createdAt', 'updatedAt',\n       'commentCount', 'likeCount', 'withNickname', 'tags', 'topics', 'meta',\n       'forumName', 'forumAlias', 'gender', 'school', 'replyTitle',\n       'mediaMeta', 'reactions', 'hidden', 'customStyle',\n       'isSuspiciousAccount', 'layout', 'withImages', 'withVideos', 'media',\n       'reportReasonText', 'postAvatar', 'department'],\n      dtype='object')\n"
    }
   ],
   "source": [
    "# 1. 這個 API 一次會回傳幾筆資料？每一筆資料包含哪些欄位？\n",
    "import requests\n",
    "import json\n",
    "import pandas as pd\n",
    "\n",
    "r = requests.get('https://www.dcard.tw/_api/forums/pet/posts?popular=true')\n",
    "jrt = json.loads(r.text)\n",
    "df = pd.DataFrame(jrt)\n",
    "# print(df)\n",
    "print(df.columns)"
   ]
  },
  {
   "cell_type": "code",
   "execution_count": 9,
   "metadata": {},
   "outputs": [
    {
     "name": "stdout",
     "output_type": "stream",
     "text": "id                             title                 createdAt  \\\n0   233370407                     領養代替購買真的是對的嗎？  2020-03-29T19:46:12.192Z   \n1   233370464                        我家貓貓喜歡潰陳柏惟  2020-03-29T20:06:03.478Z   \n2   233374401                        如何簡單獲得一隻貓🍊  2020-03-30T11:59:26.046Z   \n3   233369731                        #柴 自己洗澡的困擾  2020-03-29T17:04:14.917Z   \n4   233369194                        起飛場 折手手的懶貓  2020-03-29T15:54:35.229Z   \n5   233375331                   來點不一樣的吧！內有球蟒一枚！  2020-03-30T14:16:24.620Z   \n6   233373240                            從媽寶變爸寶  2020-03-30T08:40:09.309Z   \n7   233371570     抱怨文) 明明有能力給狗更好的生活 ，為什麼要選擇棄養？！  2020-03-30T03:55:12.177Z   \n8   233373157                     朋友放假太無聊亂P圖...  2020-03-30T08:24:54.504Z   \n9   233371024                       台南新開幕寵物咖啡輕食  2020-03-30T02:01:12.121Z   \n10  233370583                           家裡養了一隻豬  2020-03-29T21:27:42.457Z   \n11  233376264                           巨型黑豬出沒?  2020-03-30T16:19:24.421Z   \n12  233372941                        同學我要通緝你的狗😍  2020-03-30T07:46:22.140Z   \n13  233376225                               兔崽子  2020-03-30T16:15:02.574Z   \n14  233374619                        2個月白柴睡覺的模樣  2020-03-30T12:31:47.306Z   \n15  233377914                            農柴特攻隊🐶  2020-03-31T02:04:57.235Z   \n16  233375875                         #急 新屋狗狗走失  2020-03-30T15:26:40.568Z   \n17  233373748                   魚魚算寵物嗎 (兩尺缸開缸紀錄  2020-03-30T10:07:49.494Z   \n18  233376924                        我的貓是不是不太正常  2020-03-30T18:07:08.477Z   \n19  233375556                       狗狗走失協尋 高雄楠梓  2020-03-30T14:50:36.601Z   \n20  233371552                 怎麼面對家裡的狗狗即將走到最後那天  2020-03-30T03:52:46.456Z   \n21  233369238                根據比利時研究貓是不是最大的防疫裂口  2020-03-29T16:00:24.967Z   \n22  233375390             轉：❗️❗️❗️中壢急協尋貓咪‼️‼️‼️  2020-03-30T14:26:02.622Z   \n23  233373193                  #協尋 很急～朋友的貓走丟 基隆  2020-03-30T08:32:46.463Z   \n24  233376963                                龍貓  2020-03-30T18:16:30.670Z   \n25  233376765               貓貓的鼻涕蟲(也許是絛蟲)(有圖慎入)  2020-03-30T17:38:07.375Z   \n26  233378124                              貓愛咬人  2020-03-31T02:48:50.240Z   \n27  233376137                            寵物突發狀況  2020-03-30T16:01:51.394Z   \n28  233375530          Lifeapp 緩壓睡墊(尊爵堡)好躺耐用好清洗  2020-03-30T14:45:34.674Z   \n29  233372723  分享一下！希望在這個大災害下 我們以外的 金毛孩都有足夠食物😭😭  2020-03-30T07:11:46.594Z   \n\n    commentCount  likeCount  \n0             81        420  \n1              6        192  \n2              8        174  \n3              6         60  \n4              1         26  \n5             11         19  \n6              0         18  \n7              3         13  \n8              1         12  \n9              5         12  \n10             1         12  \n11             3         10  \n12             0         10  \n13             0          9  \n14             1          9  \n15             0          8  \n16             0          8  \n17             0          8  \n18             3          7  \n19             0          6  \n20             6          6  \n21             1          6  \n22             0          5  \n23             2          5  \n24             2          4  \n25            12          4  \n26             0          3  \n27             2          3  \n28             0          3  \n29             4          3  \n"
    }
   ],
   "source": [
    "# 2. 取出每一筆資料的「標題」、「貼文時間」、「留言人數」、「按讚人數」\n",
    "\n",
    "df_1 = df[['id', 'title', 'createdAt', 'commentCount', 'likeCount']]\n",
    "print(df_1)"
   ]
  },
  {
   "cell_type": "code",
   "execution_count": 20,
   "metadata": {},
   "outputs": [
    {
     "name": "stdout",
     "output_type": "stream",
     "text": "熱門文章平均留言人數:  6.87 人\n熱門文章平均按讚人數:  52.57 人\n非熱門文章平均留言人數:  2.8 人\n非熱門文章平均按讚人數:  5.1 人\n"
    }
   ],
   "source": [
    "# 3. 計算熱門/非熱門文章的「平均留言人數」與「平均按讚人數」\n",
    "import requests\n",
    "import json\n",
    "import pandas as pd\n",
    "import numpy as np\n",
    "\n",
    "popular_true_r = requests.get('https://www.dcard.tw/_api/forums/pet/posts?popular=true')\n",
    "popular_false_r = requests.get('https://www.dcard.tw/_api/forums/pet/posts?popular=false')\n",
    "\n",
    "df_true = pd.DataFrame(json.loads(popular_true_r.text))\n",
    "df_false = pd.DataFrame(json.loads(popular_false_r.text))\n",
    "\n",
    "print('熱門文章平均留言人數: ', str(round(np.mean(df_true['commentCount']), 2)), '人')\n",
    "print('熱門文章平均按讚人數: ', str(round(np.mean(df_true['likeCount']), 2)), '人')\n",
    "print('非熱門文章平均留言人數: ', str(round(np.mean(df_false['commentCount']), 2)), '人')\n",
    "print('非熱門文章平均按讚人數: ', str(round(np.mean(df_false['likeCount']), 2)), '人')\n",
    "\n",
    "\n"
   ]
  }
 ],
 "metadata": {
  "kernelspec": {
   "display_name": "Python 3",
   "language": "python",
   "name": "python3"
  },
  "language_info": {
   "codemirror_mode": {
    "name": "ipython",
    "version": 3
   },
   "file_extension": ".py",
   "mimetype": "text/x-python",
   "name": "python",
   "nbconvert_exporter": "python",
   "pygments_lexer": "ipython3",
   "version": "3.6.8-final"
  }
 },
 "nbformat": 4,
 "nbformat_minor": 2
}