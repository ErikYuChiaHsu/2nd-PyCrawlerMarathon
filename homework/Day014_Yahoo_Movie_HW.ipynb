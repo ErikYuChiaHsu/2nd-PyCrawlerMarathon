{
 "cells": [
  {
   "cell_type": "markdown",
   "metadata": {},
   "source": [
    "# YAHOO電影爬蟲練習\n",
    "## 練習爬取電影放映資訊。必須逐步獲取電影的代號、放映地區、放映日期後，再送出查詢給伺服器。"
   ]
  },
  {
   "cell_type": "code",
   "execution_count": 1,
   "metadata": {},
   "outputs": [],
   "source": [
    "import requests\n",
    "import re\n",
    "from bs4 import BeautifulSoup"
   ]
  },
  {
   "cell_type": "markdown",
   "metadata": {},
   "source": [
    "### 先搜尋全部的電影代號(ID)資訊"
   ]
  },
  {
   "cell_type": "code",
   "execution_count": 2,
   "metadata": {},
   "outputs": [
    {
     "output_type": "stream",
     "name": "stdout",
     "text": "Movie: 電影版吹響吧！上低音號～莉茲與青鳥～, ID: 10655\nMovie: 電影版 吹響吧！上低音號～想傳達的旋律～, ID: 10654\nMovie: 永不放棄：詹姆斯艾利森, ID: 10652\nMovie: 雙面遊戲, ID: 10642\nMovie: 巴黎寂寞不打烊, ID: 10636\nMovie: 惡夜救援, ID: 10634\nMovie: 響HIBIKI, ID: 10627\nMovie: 全境入侵, ID: 10625\nMovie: 你的鳥兒會唱歌, ID: 10618\nMovie: 怨鈴, ID: 10604\nMovie: 謊畫情人, ID: 10577\nMovie: 靠北少女, ID: 10575\nMovie: 在你身邊, ID: 10567\nMovie: 說再見前的30分鐘, ID: 10561\nMovie: 1/2的魔法, ID: 10505\nMovie: 靈異405號房, ID: 10687\nMovie: 葉問4：完結篇, ID: 10675\nMovie: 來自深淵 深沉靈魂的黎明  4DX/MX4D, ID: 10658\nMovie: 天氣之子, ID: 10645\nMovie: 喪屍來鬥陣, ID: 10644\nMovie: 末代皇帝, ID: 10640\nMovie: 白髮魔女傳, ID: 10639\nMovie: 誰殺了唐吉訶德, ID: 10624\nMovie: 奇蹟救援, ID: 10605\nMovie: 奪命隧道, ID: 10599\nMovie: 海邊走走, ID: 10495\nMovie: 劇場版白箱, ID: 10621\nMovie: 老娘就要這麼活, ID: 10611\nMovie: 初戀, ID: 10607\nMovie: 黑暗戰域, ID: 10606\nMovie: 陪你玩最大, ID: 10602\nMovie: 觸不到的愛, ID: 10598\nMovie: 金都, ID: 10530\nMovie: 現屍報, ID: 10619\nMovie: 壞教育, ID: 10617\nMovie: 鎖命佈局, ID: 10616\nMovie: 正在相愛嗎？, ID: 10615\nMovie: 見鬼的戀愛季節, ID: 10612\nMovie: 抽屍剝繭, ID: 10591\nMovie: 流感, ID: 10583\nMovie: 無聲革命, ID: 10601\nMovie: 惡之華, ID: 10587\nMovie: 蜈蚣降, ID: 10586\nMovie: 數碼寶貝 LAST EVOLUTION 絆, ID: 10572\nMovie: 吞噬, ID: 10560\nMovie: 美好拾光公司, ID: 10541\nMovie: 緣來想見妳, ID: 10529\nMovie: 搭火車旅行好吃驚, ID: 10492\nMovie: 海上鋼琴師4K數位修復, ID: 10613\nMovie: 罪：米開朗基羅, ID: 10574\nMovie: 知道天空有多藍的人啊, ID: 10526\nMovie: 築夢奇蹟, ID: 10511\nMovie: 末日異戰, ID: 10402\nMovie: 搞鬼, ID: 10570\nMovie: 犬鳴村, ID: 10543\nMovie: 間諜速成班, ID: 10538\nMovie: 我的英雄學院劇場版：英雄新世紀, ID: 10481\nMovie: 魔髮精靈唱遊世界, ID: 10466\nMovie: 抓住救命稻草的野獸們, ID: 10507\nMovie: 第六感生死戀, ID: 10504\nMovie: 記憶屋, ID: 10470\nMovie: 我出去醫下, ID: 10494\nMovie: 刺激1995, ID: 10518\nMovie: 安雅的回家路, ID: 10516\nMovie: 血衛, ID: 10469\nMovie: 狂飆一夢, ID: 10506\nMovie: 大畫特務, ID: 10478\nMovie: 明明會說話, ID: 10440\nMovie: 艾瑪, ID: 10396\nMovie: 女鬼橋, ID: 10437\nMovie: 極地守護犬, ID: 10383\nMovie: 隱形人, ID: 10359\nMovie: 李察朱威爾事件, ID: 10368\nMovie: 音速小子, ID: 9246\nMovie: 逃出夢幻島, ID: 10485\nMovie: 全境失控, ID: 10426\nMovie: 猛禽小隊：小丑女大解放, ID: 10268\nMovie: 1917, ID: 10189\nMovie: 你的情歌, ID: 10407\nMovie: 巧虎電影：英雄遊樂園, ID: 10429\nMovie: 不完美的正義, ID: 10243\nMovie: 星星知我心, ID: 10409\nMovie: 驅魔直播, ID: 10375\nMovie: BanG Dream！ FILM LIVE, ID: 10271\nMovie: 電影版 吹響吧！上低音號～誓言的終章～, ID: 10306\nMovie: 電影版 吹響吧！上低音號～歡迎加入北宇治高中管樂社, ID: 10307\nMovie: 電影版 吹響吧！上低音號～想傳達的旋律, ID: 10305\nMovie: 青春豬頭少年不會夢到懷夢美少女, ID: 10146\nMovie: 大象席地而坐, ID: 9236\nMovie: 夏目友人帳劇場版：緣結空蟬, ID: 8801\nMovie: 魔女首部曲：誕生, ID: 8817\nMovie: 電影版吹響吧！上低音號～莉茲與青鳥, ID: 8286\nMovie: 遊戲人生Zero, ID: 7546\nMovie: 魔導少年龍之淚, ID: 6884\nMovie: 神鬼傳奇, ID: 6647\nMovie: 刀劍神域劇場版－序列爭戰, ID: 6600\nMovie: 終極追殺令, ID: 6540\nMovie: 琴鍵上的奇蹟, ID: 6480\nMovie: 關不住的誘惑, ID: 6398\nMovie: 紅色情深 經典數位修復, ID: 6307\nMovie: 一首搖滾上月球, ID: 4887\nMovie: 錢不夠用2, ID: 3026\n"
    }
   ],
   "source": [
    "# 查看目前上映那些電影，並擷取出其ID資訊\n",
    "url = 'https://movies.yahoo.com.tw/'\n",
    "resp = requests.get(url)\n",
    "resp.encoding = 'utf-8'\n",
    "\n",
    "soup = BeautifulSoup(resp.text, 'lxml')\n",
    "html = soup.find(\"select\", attrs={'name':'movie_id'})\n",
    "movie_item = html.find_all(\"option\", attrs={'data-name':re.compile('.*')})\n",
    "\n",
    "for p in movie_item:\n",
    "    print(\"Movie: %s, ID: %s\" % (p[\"data-name\"], p[\"value\"]))"
   ]
  },
  {
   "cell_type": "markdown",
   "metadata": {},
   "source": [
    "### 指定你有興趣的電影其ID，然後查詢其放映地區資訊。"
   ]
  },
  {
   "cell_type": "code",
   "execution_count": 3,
   "metadata": {},
   "outputs": [],
   "source": [
    "# 參考前一個步驟中擷取到的ID資訊，並指定ID\n",
    "movie_id = 10505"
   ]
  },
  {
   "cell_type": "code",
   "execution_count": 4,
   "metadata": {},
   "outputs": [
    {
     "output_type": "stream",
     "name": "stdout",
     "text": "放映地區: 台北市, 代號(area_id): 28\n放映地區: 新北市, 代號(area_id): 8\n放映地區: 桃園, 代號(area_id): 16\n放映地區: 新竹, 代號(area_id): 20\n放映地區: 苗栗, 代號(area_id): 15\n放映地區: 台中, 代號(area_id): 2\n放映地區: 彰化, 代號(area_id): 22\n放映地區: 南投, 代號(area_id): 13\n放映地區: 雲林, 代號(area_id): 19\n放映地區: 嘉義, 代號(area_id): 21\n放映地區: 台南, 代號(area_id): 10\n放映地區: 高雄, 代號(area_id): 17\n放映地區: 屏東, 代號(area_id): 14\n放映地區: 基隆, 代號(area_id): 18\n放映地區: 宜蘭, 代號(area_id): 11\n放映地區: 花蓮, 代號(area_id): 12\n放映地區: 台東, 代號(area_id): 9\n放映地區: 金門, 代號(area_id): 24\n放映地區: 澎湖, 代號(area_id): 23\n"
    }
   ],
   "source": [
    "url = 'https://movies.yahoo.com.tw/api/v1/areas_by_movie_theater'\n",
    "payload = {'movie_id':str(movie_id)}\n",
    "\n",
    "# 模擬一個header\n",
    "headers = {\n",
    "    'authority': 'movies.yahoo.com.tw',\n",
    "    'method': 'GET',\n",
    "    'path': '/api/v1/areas_by_movie_theater?movie_id=' + str(movie_id),\n",
    "    'scheme': 'https',\n",
    "    'accept': 'application/json, text/javascript, */*; q=0.01',\n",
    "    'accept-encoding': 'gzip, deflate, br',\n",
    "    'accept-language': 'zh-TW,zh;q=0.9,en-US;q=0.8,en;q=0.7,zh-CN;q=0.6',\n",
    "    'cookie': 'rxx=9s3x2fws06.1g16irnc&v=1; _ga=GA1.3.2056742944.1551651301; GUC=AQEBAQFczFpdm0IfmwSB&s=AQAAACoo4N5D&g=XMsVBw; BX=4hkdk1decm57t&b=3&s=mr; _ga=GA1.4.2056742944.1551651301; nexagesuid=82843256dd234e8e91aa73f2062f8218; browsed_movie=eyJpdiI6IlJXWWtiSWJaZlNGK2MxQnhscnVUYWc9PSIsInZhbHVlIjoiMXRhMmVHRXRIeUNjc1RBWDJzdGYwbnlIQURmWGsrcjJSMzhkbkcraDNJVUNIZEZsbzU3amlFcVZ1NzlmazJrTGpoMjVrbHk1YmpoRENXaHZTOUw1TmI2ZTZVWHdOejZQZm16RmVuMWlHTTJLaTZLVFZZVkFOMDlTd1wvSGltcytJIiwibWFjIjoiZWQ2ZjA4MmVjZmZlYjlmNjJmYmY2NGMyMDI0Njc0NWViYjVkOWE2NDg0N2RhODMxZjBjZDhiMmJhZTc2MDZhYiJ9; avi=eyJpdiI6Im1NeWFJRlVRWDR1endEcGRGUGJUbVE9PSIsInZhbHVlIjoickRpU3JuUytmcGl6cjF5OW0rNU9iZz09IiwibWFjIjoiY2VmY2NkNzZmM2NhNjY5YzlkOTcyNjE5OGEyMzU0NWYxOTdmMDRkMDY3OWNmMmZjOTMxYjc5MjI5N2Q5NGE5MiJ9; cmp=t=1559391030&j=0; _gid=GA1.4.779543841.1559391031; XSRF-TOKEN=eyJpdiI6IkhpS2hGcDRQaHlmWUJmaHdSS2Q2bHc9PSIsInZhbHVlIjoiOUVoNFk4OHI1UUZmUWRtYXhza0MyWjJSTlhlZ3RnT0VGeVJPN2JuczVRMGRFdWt2OUlsamVKeHRobFwvcHBGM0dhU3VyMXNGTHlsb2dVM2l0U1hpUGxBPT0iLCJtYWMiOiJkZWU4YzJhNjAxMTY3MzE4Y2ExNWIxYmE1ZjE1YWZlZTlhOTcyYjc4M2RlZGY4ZWNjZDYyMTA2NGYwZGViMzc2In0%3D; m_s=eyJpdiI6InpsZHZ2Tk1BZ0dxaHhETml1RjBnUXc9PSIsInZhbHVlIjoiSkNGeHUranRoXC85bDFiaDhySTJqNkJRcWdjWUxjeVRJSHVYZ1wvd2d4bWJZUTUrSHVDM0lUcW5KNHdETFZ4T1lieU81OUhzc1VoUXhZcWk0UDZSQXVFdz09IiwibWFjIjoiYmJkMDJkMDhlODIzMzcyMWY4M2NmYWNjNGVlOWRjMDIwZmVmNzAyMjE3Yzg3ZGY3ODBkZWEzZTI4MTI5ZWNmOSJ9; _gat=1; nexagesd=10',\n",
    "    'dnt': '1',\n",
    "    'mv-authorization': '21835b082e15b91a69b3851eec7b31b82ce82afb',\n",
    "    'referer': 'https://movies.yahoo.com.tw/',\n",
    "    'user-agent': 'Mozilla/5.0 (Windows NT 10.0; Win64; x64) AppleWebKit/537.36 (KHTML, like Gecko) Chrome/74.0.3729.169 Safari/537.36',\n",
    "    'x-requested-with': 'XMLHttpRequest',\n",
    "}\n",
    "    \n",
    "resp = requests.get(url, params=payload, headers=headers)\n",
    "#print(resp.json())  # 若有需要，列印出json原始碼\n",
    "\n",
    "# 這裡回傳的格式是JSON格式的資料，要解析JSON擷取資料\n",
    "for p in resp.json():\n",
    "    print('放映地區: {0}, 代號(area_id): {1}'.format(p['title'], p['area_id']))"
   ]
  },
  {
   "cell_type": "markdown",
   "metadata": {},
   "source": [
    "### 指定你想要觀看的放映地區，查詢有上映電影的場次日期"
   ]
  },
  {
   "cell_type": "code",
   "execution_count": 5,
   "metadata": {},
   "outputs": [],
   "source": [
    "# 指定放映地區\n",
    "area_id = 28"
   ]
  },
  {
   "cell_type": "code",
   "execution_count": 6,
   "metadata": {},
   "outputs": [
    {
     "output_type": "stream",
     "name": "stdout",
     "text": "五月 28\n五月 29\n五月 30\n五月 31\n六月 1\n"
    }
   ],
   "source": [
    "# 向網站發送請求\n",
    "url = 'https://movies.yahoo.com.tw/movietime_result.html'\n",
    "payload = {'movie_id':str(movie_id), 'area_id':str(area_id)}\n",
    "resp = requests.get(url, params=payload)\n",
    "resp.encoding = 'utf-8'\n",
    "\n",
    "soup = BeautifulSoup(resp.text, 'lxml')\n",
    "movie_date = soup.find_all(\"label\", attrs={'for':re.compile(\"date_[\\d]\")})\n",
    "\n",
    "# 列印播放日期\n",
    "for date in movie_date:\n",
    "    print(\"%s %s\" % (date.p.string, date.h3.string))"
   ]
  },
  {
   "cell_type": "markdown",
   "metadata": {},
   "source": [
    "### 最後指定觀看的日期，查詢並列印出放映的電影院、放映類型(數位、3D、IMAX 3D...)、放映時間等資訊。"
   ]
  },
  {
   "cell_type": "code",
   "execution_count": 7,
   "metadata": {},
   "outputs": [],
   "source": [
    "# 選定要觀看的日期\n",
    "date = \"2020-05-29\""
   ]
  },
  {
   "cell_type": "code",
   "execution_count": 8,
   "metadata": {},
   "outputs": [],
   "source": [
    "# 向網站發送請求，獲取上映的電影院及時間資訊\n",
    "url = \"https://movies.yahoo.com.tw/ajax/pc/get_schedule_by_movie\"\n",
    "payload = {'movie_id':str(movie_id),\n",
    "           'date':date,\n",
    "           'area_id':str(area_id),\n",
    "           'theater_id':'',\n",
    "           'datetime':'',\n",
    "           'movie_type_id':''}\n",
    "\n",
    "resp = requests.get(url, params=payload)\n",
    "# print(resp.json()['view'])  # 若有需要，列印出json原始碼\n",
    "\n",
    "soup = BeautifulSoup(resp.json()['view'], 'lxml')\n",
    "html = soup.find_all(\"ul\", attrs={'data-theater_name':re.compile(\".*\")})\n",
    "\n",
    "# print(html)"
   ]
  },
  {
   "cell_type": "code",
   "execution_count": 9,
   "metadata": {},
   "outputs": [
    {
     "output_type": "stream",
     "name": "stdout",
     "text": "台北美麗華大直影城\nIMAX  2020-05-29 11:00:00\nIMAX  2020-05-29 22:10:00\n數位  2020-05-29 11:40:00\n數位  2020-05-29 13:40:00\n數位  2020-05-29 15:40:00\n數位  2020-05-29 17:40:00\n數位  2020-05-29 19:10:00\n數位  2020-05-29 19:40:00\n數位  2020-05-29 21:20:00\n台北新光影城\n數位  2020-05-29 15:25:00\n數位  2020-05-29 17:35:00\n數位  2020-05-29 19:40:00\n台北in89豪華數位影城\n數位  2020-05-29 15:00:00\n數位  2020-05-29 18:45:00\n台北樂聲影城\n數位  2020-05-29 11:00:00\n數位  2020-05-29 15:20:00\n數位  2020-05-29 19:15:00\n台北日新威秀影城\n數位  2020-05-29 11:25:00\n數位  2020-05-29 14:00:00\n數位  2020-05-29 16:30:00\n數位  2020-05-29 20:30:00\n喜滿客絕色影城\n數位  2020-05-29 11:00:00\n數位  2020-05-29 13:00:00\n數位  2020-05-29 15:00:00\n數位  2020-05-29 17:10:00\n數位  2020-05-29 19:10:00\n台北信義威秀影城\n數位  2020-05-29 11:05:00\n數位  2020-05-29 13:05:00\n數位  2020-05-29 15:05:00\n數位  2020-05-29 17:05:00\n數位  2020-05-29 19:05:00\n數位  2020-05-29 21:05:00\n數位  2020-05-29 23:05:00\n數位  2020-05-29 12:05:00\n數位  2020-05-29 14:05:00\n數位  2020-05-29 16:05:00\n京站威秀影城\n數位  2020-05-29 11:25:00\n數位  2020-05-29 13:20:00\n數位  2020-05-29 15:15:00\n數位  2020-05-29 17:15:00\n數位  2020-05-29 19:10:00\n數位  2020-05-29 14:25:00\n台北新民生戲院\n數位  2020-05-29 17:25:00\n數位  2020-05-29 19:20:00\n喜樂時代影城南港店\n數位  2020-05-29 11:00:00\n數位  2020-05-29 13:30:00\n數位  2020-05-29 15:00:00\n數位  2020-05-29 17:45:00\n數位  2020-05-29 19:00:00\n數位  2020-05-29 21:00:00\n數位  2020-05-29 13:00:00\n數位  2020-05-29 17:00:00\nMUVIE CINEMAS台北松仁威秀\n數位  2020-05-29 14:30:00\n數位  2020-05-29 17:30:00\n數位  2020-05-29 16:30:00\n數位  2020-05-29 18:30:00\n數位  2020-05-29 20:30:00\n"
    }
   ],
   "source": [
    "for i in html:\n",
    "  theater = i.find('a').text\n",
    "  print(theater)\n",
    "  movie_type = i.find_all(\"input\")\n",
    "  for j in movie_type:\n",
    "    print(j['data-movie_type'] + '  ' + j['value'])\n"
   ]
  },
  {
   "cell_type": "code",
   "execution_count": null,
   "metadata": {},
   "outputs": [],
   "source": []
  }
 ],
 "metadata": {
  "kernelspec": {
   "display_name": "Python 3",
   "language": "python",
   "name": "python3"
  },
  "language_info": {
   "codemirror_mode": {
    "name": "ipython",
    "version": 3
   },
   "file_extension": ".py",
   "mimetype": "text/x-python",
   "name": "python",
   "nbconvert_exporter": "python",
   "pygments_lexer": "ipython3",
   "version": "3.6.8-final"
  }
 },
 "nbformat": 4,
 "nbformat_minor": 2
}