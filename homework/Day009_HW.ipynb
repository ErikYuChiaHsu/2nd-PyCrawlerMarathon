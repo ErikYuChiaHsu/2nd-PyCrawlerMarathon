{
 "cells": [
  {
   "cell_type": "markdown",
   "metadata": {},
   "source": [
    "# 作業\n",
    "\n",
    "以正確的副檔名下載網頁中的圖片\n",
    "範例網頁:https://www.ptt.cc/bbs/Beauty/M.1556291059.A.75A.html\n",
    "\n",
    "Note：因為 PTT 會詢問「是否滿 18 歲」，這邊可以用 cookies 繞過\n",
    "\n",
    "`requests.get(URL, cookies={'over18': '1'}`\n"
   ]
  },
  {
   "cell_type": "code",
   "execution_count": 1,
   "metadata": {},
   "outputs": [],
   "source": [
    "import requests\n",
    "import os\n",
    "import io\n",
    "from bs4 import BeautifulSoup\n",
    "from PIL import Image # pip install Pillow\n",
    "\n",
    "def download_file(save_dir, image_id, url):\n",
    "    local_filename = url.split('/')[-1]\n",
    "    with requests.get(url, stream=True) as r:\n",
    "        r.raise_for_status()\n",
    "        # 另一種計算圖檔大小方式\n",
    "        # image_b = io.BytesIO(r.content).read()\n",
    "        # size = len(image_b)\n",
    "\n",
    "        img = Image.open(r.raw)\n",
    "        size = len(img.fp.read())\n",
    "        \n",
    "        # 檢查圖片副檔名\n",
    "        pic_type = img.format\n",
    "        pic_size = img.size\n",
    "        pic_mode = img.mode\n",
    "        img_savename = '{}/{}.{}'.format(save_dir, image_id, pic_type)\n",
    "\n",
    "        if (size/1048576) <= 1:\n",
    "            img.save(img_savename)\n",
    "        else:\n",
    "            with requests.get(url, stream=True) as r:\n",
    "                r.raise_for_status()\n",
    "                with open(img_savename, 'wb') as f:\n",
    "                    for chunk in r.iter_content(chunk_size=8192): \n",
    "                        if chunk: \n",
    "                            f.write(chunk)\n",
    "            return local_filename"
   ]
  },
  {
   "cell_type": "code",
   "execution_count": 2,
   "metadata": {
    "tags": [
     "outputPrepend"
    ]
   },
   "outputs": [],
   "source": [
    "url = 'https://www.ptt.cc/bbs/Beauty/M.1556291059.A.75A.html'\n",
    "resp = requests.get(url, cookies={'over18': '1'})\n",
    "soup = BeautifulSoup(resp.text)\n",
    ""
   ]
  },
  {
   "cell_type": "code",
   "execution_count": 3,
   "metadata": {
    "tags": [
     "outputPrepend"
    ]
   },
   "outputs": [],
   "source": [
    "# 決定要儲存的資料夾\n",
    "output_dir = 'D:/learning/2nd-PyCrawlerMarathon/teach/D09/pic'\n",
    "\n",
    "# 假如資料夾不存在就新增一個資料夾\n",
    "if not os.path.exists(output_dir):\n",
    "    os.makedirs(output_dir)\n",
    "\n",
    "# 定位所有圖片的 tag\n",
    "url_keyword = 'imgur'\n",
    "\n",
    "image_tags = soup.find(id='main-content').findChildren('a', recursive=False)\n",
    "for img_tag in image_tags:\n",
    "    # 取得所有圖片在第三方服務的 id\n",
    "    # 加入if-else判別機制排除非網址\n",
    "    # 組合圖片而非網站的網址\n",
    "    if url_keyword not in img_tag['href']:\n",
    "        print('not url')\n",
    "        continue \n",
    "    else:\n",
    "        image_id = img_tag['href'].split('/')[-1]\n",
    "        pic_url = 'https://i.imgur.com/{}.jpg'.format(image_id)\n",
    "    # 對圖片送出請求\n",
    "        download_file(output_dir, image_id, pic_url)\n",
    "        # download_file_big(pic_url)\n",
    "    "
   ]
  },
  {
   "cell_type": "code",
   "execution_count": null,
   "metadata": {},
   "outputs": [],
   "source": []
  }
 ],
 "metadata": {
  "kernelspec": {
   "display_name": "Python 3",
   "language": "python",
   "name": "python3"
  },
  "language_info": {
   "codemirror_mode": {
    "name": "ipython",
    "version": 3
   },
   "file_extension": ".py",
   "mimetype": "text/x-python",
   "name": "python",
   "nbconvert_exporter": "python",
   "pygments_lexer": "ipython3",
   "version": "3.6.8-final"
  }
 },
 "nbformat": 4,
 "nbformat_minor": 2
}