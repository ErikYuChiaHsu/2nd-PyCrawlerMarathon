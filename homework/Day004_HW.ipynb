{
 "cells": [
  {
   "cell_type": "markdown",
   "metadata": {
    "colab_type": "text",
    "id": "uSf0mVenUdOf"
   },
   "source": [
    "# 利用 Python 存取 API\n",
    "\n",
    "\n",
    "* 了解 Server Client 的架構與溝通方法\n",
    "* 知道 HTTP Request & Response 的內容\n",
    "* 什麼是 API？如何用 Python 程式存取 API 資料\n"
   ]
  },
  {
   "cell_type": "markdown",
   "metadata": {
    "colab_type": "text",
    "id": "FwvxVPZuUdOh"
   },
   "source": [
    "## 作業目標\n",
    "\n",
    "* 比較一下範例檔案中的「r.text」與「json.loads(r.text)」讀出來的內容有什麼差異\n",
    "* 自行尋找一個合適的 API 接口做練習，並且查看其回傳內容\n",
    "    * https://cat-fact.herokuapp.com/facts (來源：https://alexwohlbruck.github.io/cat-facts/)\n",
    "    * http://odata.wra.gov.tw/v4/RealtimeWaterLevel (來源：https://data.gov.tw/dataset/25768)\n",
    "\n"
   ]
  },
  {
   "cell_type": "markdown",
   "metadata": {
    "colab_type": "text",
    "id": "r5GIjwYuUdOi"
   },
   "source": [
    "### 比較一下範例檔案中的「r.text」與「json.loads(r.text)」讀出來的內容有什麼差異"
   ]
  },
  {
   "cell_type": "code",
   "execution_count": 6,
   "metadata": {},
   "outputs": [
    {
     "name": "stdout",
     "output_type": "stream",
     "text": "<class 'list'>\n<class 'str'>\n"
    }
   ],
   "source": [
    "import requests\n",
    "import json\n",
    "\n",
    "\n",
    "r = requests.get('https://api.github.com/events')\n",
    "\n",
    "jrt = json.loads(r.text)\n",
    "rt = r.text\n",
    "print(type(jrt))\n",
    "# 形式為list\n",
    "print(type(rt))\n",
    "# 形式為字串 "
   ]
  },
  {
   "cell_type": "markdown",
   "metadata": {
    "colab_type": "text",
    "id": "eJwMGD6XUdOn"
   },
   "source": [
    "### 自行尋找一個合適的 API 接口做練習，並且查看其回傳內容\n",
    "\n",
    "* https://cat-fact.herokuapp.com/facts (來源：https://alexwohlbruck.github.io/cat-facts/)\n",
    "* http://odata.wra.gov.tw/v4/RealtimeWaterLevel (來源：https://data.gov.tw/dataset/25768)\n"
   ]
  },
  {
   "cell_type": "code",
   "execution_count": 13,
   "metadata": {},
   "outputs": [
    {
     "name": "stdout",
     "output_type": "stream",
     "text": "me': {'first': 'Alex', 'last': 'Wohlbruck'}}, 'upvotes': 1, 'userUpvoted': None}, {'_id': '5b4911340508220014ccfe92', 'text': 'Kittens start to dream when they’re about a week old.', 'type': 'cat', 'user': {'_id': '5a9ac18c7478810ea6c06381', 'name': {'first': 'Alex', 'last': 'Wohlbruck'}}, 'upvotes': 1, 'userUpvoted': None}, {'_id': '5c609ae8e54902001453303b', 'text': 'Approximately 40% of cats have a dominant paw. The rest are ambidextrous.', 'type': 'cat', 'user': {'_id': '5a9ac18c7478810ea6c06381', 'name': {'first': 'Alex', 'last': 'Wohlbruck'}}, 'upvotes': 1, 'userUpvoted': None}, {'_id': '5c69c409c2d7a200140f67ec', 'text': 'Cats can have three litters a year, or approximately 12 kittens.', 'type': 'cat', 'user': {'_id': '5a9ac18c7478810ea6c06381', 'name': {'first': 'Alex', 'last': 'Wohlbruck'}}, 'upvotes': 1, 'userUpvoted': None}, {'_id': '5c35531e8e0b8d00148d45e8', 'text': \"If you grow your own catnip, here's how to prepare it for kitty's enjoyment: Cut several stalks of the plant from the base. Hang them upside down in a dark and dry room for several weeks. Then cut the catnip into small pieces, rub some on your cat's favorite toys or scratching post, and let the games begin!\", 'type': 'cat', 'user': {'_id': '5a9ac18c7478810ea6c06381', 'name': {'first': 'Alex', 'last': 'Wohlbruck'}}, 'upvotes': 1, 'userUpvoted': None}, {'_id': '5c3bba466bd7ea00141eff4f', 'text': 'Approximately 80% of orange tabbies are male.', 'type': 'cat', 'user': {'_id': '5a9ac18c7478810ea6c06381', 'name': {'first': 'Alex', 'last': 'Wohlbruck'}}, 'upvotes': 1, 'userUpvoted': None}, {'_id': '5c3bbab76bd7ea00141eff50', 'text': 'If you need to trim a cat\\'s nails, choose a moment when he is relaxed. Massage his paws gently before clipping. Make sure you\\'re using a pair of clippers specifically for cat\\'s nails, not human nail clippers. Avoid cutting the nail too close to the \"quick,\" the pink part of a cat\\'s nail, which is full of blood vessels and nerves.', 'type': 'cat', 'user': {'_id': '5a9ac18c7478810ea6c06381', 'name': {'first': 'Alex', 'last': 'Wohlbruck'}}, 'upvotes': 1, 'userUpvoted': None}, {'_id': '5c471b30a99c3f00140fe4c5', 'text': 'The collective noun for kittens is a \"kindle\".', 'type': 'cat', 'user': {'_id': '5c471b15a99c3f00140fe4c4', 'name': {'first': 'Beth', 'last': 'Rothwell'}}, 'upvotes': 1, 'userUpvoted': None}, {'_id': '5c609945e549020014533037', 'text': 'Do you ever wake up in the middle of the night and find your cat sleeping on your head? Cat behavioral experts believe that cats are drawn to the warmth and the familiar scent of the owner. Resting on your head also keeps kitty safe from your arms and legs if you toss and turn through the night.', 'type': 'cat', 'user': {'_id': '5a9ac18c7478810ea6c06381', 'name': {'first': 'Alex', 'last': 'Wohlbruck'}}, 'upvotes': 1, 'userUpvoted': None}, {'_id': '5c7408a14dd87d001490f02b', 'text': \"The cheetah is the only cat that doesn't have retractable claws.\", 'type': 'cat', 'user': {'_id': '5c72e94751021f001415f012', 'name': {'first': 'Tests', 'last': 'HiQ'}}, 'upvotes': 1, 'userUpvoted': None}, {'_id': '5c75f56272681400147b988a', 'text': 'There are only two escalators in the state of Wyoming.', 'type': 'cat', 'user': {'_id': '5a9ac18c7478810ea6c06381', 'name': {'first': 'Alex', 'last': 'Wohlbruck'}}, 'upvotes': 1, 'userUpvoted': None}, {'_id': '5c84248f731a60001540a193', 'text': 'When a cat lifts its butt in the air when scratched, it is a sign that your feline is giving your pats an A+. However, if you have a female kitty who hasn\\'t been spayed, \"elevator butt\" could be a sign that she\\'s ready to mate. The proper name for this stance is lordosis, and cats adopt it when they\\'re in heat.', 'type': 'cat', 'user': {'_id': '5c7da4bd70008708fb17c88f', 'name': {'first': 'Alex', 'last': 'Wohlbruck'}}, 'upvotes': 1, 'userUpvoted': None}, {'_id': '5c87d03dec1e5c0aa37e0a6b', 'type': 'cat', 'text': 'On October 24, 1963, a tuxedo cat named Félicette entered outer space aboard a French Véronique AG1 rocket and made feline history. Félicette returned from the 15-minute trip in once piece and earned the praise of French scientists, who said she made \"a valuable contribution to research.\".', 'user': {'_id': '5a9ac18c7478810ea6c06381', 'name': {'first': 'Alex', 'last': 'Wohlbruck'}}, 'upvotes': 1, 'userUpvoted': None}, {'_id': '5cd42b77cfdf230015bd7a45', 'text': 'Cats can sense distress from a human being.', 'type': 'cat', 'user': {'_id': '5cd42b40cfdf230015bd7a44', 'name': {'first': 'Chloe', 'last': 'Simmons'}}, 'upvotes': 1, 'userUpvoted': None}, {'_id': '5cd86b0e1dc6d50015ec2f08', 'text': 'Norwegian Forest Cats are usually very people friendly.', 'type': 'cat', 'user': {'_id': '5cd86adb1dc6d50015ec2f07', 'name': {'first': 'Shay', 'last': 'Zhang'}}, 'upvotes': 1, 'userUpvoted': None}, {'_id': '5d38b1d40f1c57001592f12c', 'type': 'cat', 'text': \"During the heat of the summer, set out an extra bowl of water and place ice cubes in it to keep it cold and refreshing. Cats love to lie on cool surfaces when it's hot—if you don't have an tile in your home, consider buying a few ceramic tiles from a home improvement store for your cat to rest on.\", 'user': {'_id': '5a9ac18c7478810ea6c06381', 'name': {'first': 'Alex', 'last': 'Wohlbruck'}}, 'upvotes': 1, 'userUpvoted': None}, {'_id': '5d38b2510f1c57001592f12e', 'type': 'cat', 'text': 'Courgars are the largest wild cats that can purr.', 'user': {'_id': '5a9ac18c7478810ea6c06381', 'name': {'first': 'Alex', 'last': 'Wohlbruck'}}, 'upvotes': 1, 'userUpvoted': None}, {'_id': '5d38b5b50f1c57001592f131', 'type': 'cat', 'text': 'Andy Warhol amassed quite the collection of feline friends during his lifetime, beginning with a Siamese cat named Hester that was given to him by actress Gloria Swanson. By breeding Hester with a cat named Sam, Warhol ended up with multiple litters of kittens, at one point housing 25 cats in his Upper East Side townhouse in NYC.', 'user': {'_id': '5a9ac18c7478810ea6c06381', 'name': {'first': 'Alex', 'last': 'Wohlbruck'}}, 'upvotes': 1, 'userUpvoted': None}, {'_id': '5d38b6090f1c57001592f132', 'type': 'cat', 'text': 'While two kittens might sound like double trouble, adopting two at a time can actually make your job easier. Two cans can keep each other company, reducing their need for socialization, and they will expend energy by playing together. Kittens in the same litter often form tight sibling bonds.', 'user': {'_id': '5a9ac18c7478810ea6c06381', 'name': {'first': 'Alex', 'last': 'Wohlbruck'}}, 'upvotes': 1, 'userUpvoted': None}, {'_id': '5d38bb910f1c57001592f14e', 'type': 'cat', 'text': 'Dr. Seuss wrote The Cat in the Hat using only 236 words.', 'user': {'_id': '5a9ac18c7478810ea6c06381', 'name': {'first': 'Alex', 'last': 'Wohlbruck'}}, 'upvotes': 1, 'userUpvoted': None}, {'_id': '5d9d4ae168a764001553b388', 'type': 'cat', 'text': 'Cats conserve energy by sleeping for an average of 13 to 14 hours a day.', 'user': {'_id': '5d9d4a4468a764001553b387', 'name': {'first': 'Erick', 'last': 'Vazquez'}}, 'upvotes': 1, 'userUpvoted': None}, {'_id': '5e10d7841c78ab0015bc5b15', 'type': 'cat', 'text': 'Some cats do not eat fish.', 'user': {'_id': '5e10d6e51c78ab0015bc5b14', 'name': {'first': 'Max', 'last': 'Bilohatnyuk'}}, 'upvotes': 0, 'userUpvoted': None}, {'_id': '5e7d0f12412dc800155c1506', 'type': 'cat', 'text': 'Kasimir Schulz.', 'user': {'_id': '5e7d0ee5412dc800155c1505', 'name': {'first': 'Alireza', 'last': 'Khalesi'}}, 'upvotes': 0, 'userUpvoted': None}, {'_id': '5e7d0f2b412dc800155c1507', 'type': 'cat', 'text': 'Test.', 'user': {'_id': '5e7d0ee5412dc800155c1505', 'name': {'first': 'Alireza', 'last': 'Khalesi'}}, 'upvotes': 0, 'userUpvoted': None}, {'_id': '5e80e7cc2d4b850015003072', 'type': 'cat', 'text': 'Cats can climb on trees faster than squirels.', 'user': {'_id': '5e80e6c72d4b85001500306e', 'name': {'first': 'Łukasz', 'last': 'Wiktorko'}}, 'upvotes': 0, 'userUpvoted': None}, {'_id': '5e7b6d29ae411100158fc6c2', 'type': 'cat', 'text': 'Cicus.', 'user': {'_id': '5e7b6a45ae411100158fc6c1', 'name': {'first': 'User', 'last': 'Teszt'}}, 'upvotes': 0, 'userUpvoted': None}, {'_id': '5e7bada7ae411100158fc6c6', 'type': 'cat', 'text': 'X.', 'user': {'_id': '5e7bad88ae411100158fc6c5', 'name': {'first': 'DM', 'last': 'Z'}}, 'upvotes': 0, 'userUpvoted': None}, {'_id': '5e7bfd41412dc800155c14f4', 'type': 'cat', 'text': 'Cat is called Biralo in Nepalese.', 'user': {'_id': '5e7bf5df412dc800155c14f3', 'name': {'first': 'Paras', 'last': 'Gurung'}}, 'upvotes': 0, 'userUpvoted': None}, {'_id': '5e7c4c25412dc800155c14f8', 'type': 'cat', 'text': 'A.', 'user': {'_id': '5e7c4c0c412dc800155c14f6', 'name': {'first': 'Khương', 'last': 'Thái'}}, 'upvotes': 0, 'userUpvoted': None}, {'_id': '5e7e19b85c2a410015719375', 'type': 'cat', 'text': 'Cats have one life.', 'user': {'_id': '5e7e19335c2a410015719374', 'name': {'first': 'Taylor', 'last': 'Fahlman'}}, 'upvotes': 0, 'userUpvoted': None}, {'_id': '5e7f8728354b570015d37de1', 'type': 'cat', 'text': 'Cats are lovey pets.', 'user': {'_id': '5e7f868b354b570015d37de0', 'name': {'first': 'Stine', 'last': 'Atuokwu'}}, 'upvotes': 0, 'userUpvoted': None}, {'_id': '5e80e6de2d4b85001500306f', 'type': 'cat', 'text': '1.', 'user': {'_id': '5e80e6c72d4b85001500306e', 'name': {'first': 'Łukasz', 'last': 'Wiktorko'}}, 'upvotes': 0, 'userUpvoted': None}, {'_id': '5e19da391fd6150015fa7356', 'type': 'cat', 'text': '\"Cats can hear the ultrasonic noises that rodents and dolphins make to communicate.\".', 'user': {'_id': '5e19d99e1fd6150015fa7353', 'name': {'first': 'Crystal Gale', 'last': 'Scott'}}, 'upvotes': 0, 'userUpvoted': None}, {'_id': '5e1efba858449a0015ce4783', 'type': 'cat', 'text': '\"A house cat is faster than Usain Bolt.\".', 'user': {'_id': '5e1efb5958449a0015ce4781', 'name': {'first': 'oyaji', 'last': '55'}}, 'upvotes': 0, 'userUpvoted': None}, {'_id': '5e239999dc76630015d4c5e2', 'type': 'cat', 'text': 'Cats see only on blue and yellow.', 'user': {'_id': '5e239963dc76630015d4c5e1', 'name': {'first': 'Eduardo', 'last': 'P. Gomez'}}, 'upvotes': 0, 'userUpvoted': None}, {'_id': '5e27232ec71d0900152d8518', 'type': 'cat', 'text': 'Cats are dumb.', 'user': {'_id': '5e272323c71d0900152d8517', 'name': {'first': 'Andrew', 'last': 'Steele'}}, 'upvotes': 0, 'userUpvoted': None}, {'_id': '5e2f9f1ade397c00152dd552', 'type': 'cat', 'text': 'Cat.', 'user': {'_id': '5e2f9f0ede397c00152dd551', 'name': {'first': 'bah', 'last': 'godam99'}}, 'upvotes': 0, 'userUpvoted': None}, {'_id': '5e2f9f23de397c00152dd553', 'type': 'cat', 'text': 'Sleep.', 'user': {'_id': '5e2f9f0ede397c00152dd551', 'name': {'first': 'bah', 'last': 'godam99'}}, 'upvotes': 0, 'userUpvoted': None}, {'_id': '5e3382ccd7ac48001509e153', 'type': 'cat', 'text': 'Cat is an animal.', 'user': {'_id': '5e3381f3d7ac48001509e151', 'name': {'first': 'Dicka', 'last': 'Ismaji'}}, 'upvotes': 0, 'userUpvoted': None}, {'_id': '5e344e7acd8efb0015ae3055', 'type': 'cat', 'text': 'Cat live, on average, for about 7-8 years.', 'user': {'_id': '5e344e3ccd8efb0015ae3054', 'name': {'first': 'RYAN', 'last': 'STULTZ'}}, 'upvotes': 0, 'userUpvoted': None}, {'_id': '5e3534d8cd8efb0015ae305c', 'type': 'cat', 'text': 'Hi.', 'user': {'_id': '5e3534b4cd8efb0015ae305b', 'name': {'first': 'Durgarao', 'last': 'R'}}, 'upvotes': 0, 'userUpvoted': None}, {'_id': '5e35436d11559000151bf453', 'type': 'cat', 'text': '123.', 'user': {'_id': '5e3534b4cd8efb0015ae305b', 'name': {'first': 'Durgarao', 'last': 'R'}}, 'upvotes': 0, 'userUpvoted': None}, {'_id': '5e355bf411559000151bf454', 'type': 'cat', 'text': 'Fgf.', 'user': {'_id': '5e3534b4cd8efb0015ae305b', 'name': {'first': 'Durgarao', 'last': 'R'}}, 'upvotes': 0, 'userUpvoted': None}, {'_id': '5e380ea32035630015618254', 'type': 'cat', 'text': 'Asd.', 'user': {'_id': '5e380e9b2035630015618253', 'name': {'first': 'dm', 'last': 'max'}}, 'upvotes': 0, 'userUpvoted': None}, {'_id': '5e56fdf375991a0015429ffc', 'type': 'cat', 'text': 'Bbb.', 'user': {'_id': '5e56fddd75991a0015429ffb', 'name': {'first': 'Cristian', 'last': 'Salcedo'}}, 'upvotes': 0, 'userUpvoted': None}, {'_id': '5e5fa8834bbe5000159a40c8', 'type': 'cat', 'text': 'Helo.', 'user': {'_id': '5e5fa8764bbe5000159a40c7', 'name': {'first': 'Umesh', 'last': 'Golla'}}, 'upvotes': 0, 'userUpvoted': None}, {'_id': '5e6101691ef5490015babb5e', 'type': 'cat', 'text': '4564.', 'user': {'_id': '5e6101581ef5490015babb5d', 'name': {'first': 'Анна', 'last': 'Абрамова'}}, 'upvotes': 0, 'userUpvoted': None}, {'_id': '5e6101741ef5490015babb5f', 'type': 'cat', 'text': '46546.', 'user': {'_id': '5e6101581ef5490015babb5d', 'name': {'first': 'Анна', 'last': 'Абрамова'}}, 'upvotes': 0, 'userUpvoted': None}, {'_id': '5e63c838d681170015d920c6', 'type': 'cat', 'text': 'Persa.', 'user': {'_id': '5e63c82dd681170015d920c5', 'name': {'first': 'Ivo', 'last': 'Baptista'}}, 'upvotes': 0, 'userUpvoted': None}, {'_id': '5e64033ad681170015d920c9', 'type': 'cat', 'text': 'Speed.', 'user': {'_id': '5e640328d681170015d920c8', 'name': {'first': 'Peter', 'last': 'Seboyeng'}}, 'upvotes': 0, 'userUpvoted': None}, {'_id': '5e66d61767112d00157b0d80', 'type': 'cat', 'text': 'Aptude Luis.', 'user': {'_id': '5e66d5ec67112d00157b0d7d', 'name': {'first': 'luisnoe', 'last': 'jasso'}}, 'upvotes': 0, 'userUpvoted': None}, {'_id': '5e747f3e265890001533fcec', 'type': 'cat', 'text': '貓貓.', 'user': {'_id': '5e747f19265890001533fceb', 'name': {'first': '橿', 'last': '孟'}}, 'upvotes': 0, 'userUpvoted': None}, {'_id': '5e79b5adcca7670015e74b4d', 'type': 'cat', 'text': 'Hello World.', 'user': {'_id': '5e79b588cca7670015e74b4c', 'name': {'first': 'Sanjay', 'last': 'Sarkar'}}, 'upvotes': 0, 'userUpvoted': None}, {'_id': '5e7a4017cca7670015e74b4f', 'type': 'cat', 'text': 'Cats is good.', 'user': {'_id': '5e7a3ffecca7670015e74b4e', 'name': {'first': 'Геннадий', 'last': 'Сычик'}}, 'upvotes': 0, 'userUpvoted': None}, {'_id': '5e7b4636ae411100158fc6ba', 'type': 'cat', 'text': 'Koudetat.', 'user': {'_id': '5e7b45b8ae411100158fc6b8', 'name': {'first': 'jean-marie', 'last': 'romelus'}}, 'upvotes': 0, 'userUpvoted': None}, {'_id': '5e7b5dedae411100158fc6c0', 'type': 'cat', 'text': 'Pisucile sunt pufoase.', 'user': {'_id': '5e7b5de3ae411100158fc6bf', 'name': {'first': 'Andrei', 'last': 'Casuneanu'}}, 'upvotes': 0, 'userUpvoted': None}, {'_id': '5d38baf20f1c57001592f14b', 'type': 'cat', 'text': \"The stationmaster of the Kishi rail station in western Japan until 2015 was a cat named Tama. The calico cat wore a stationmaster's cap and greeted visitors by the ticket gate. After her death, Tama was elevated to the status of a goddess in a Shinto-style funeral.\", 'user': {'_id': '5a9ac18c7478810ea6c06381', 'name': {'first': 'Alex', 'last': 'Wohlbruck'}}, 'upvotes': 0, 'userUpvoted': None}, {'_id': '5d38bb7a0f1c57001592f14d', 'type': 'cat', 'text': 'In Norse mythology, the goddess Freya travels in a chariot pulled by two cats—specifically Norwegian Forest Cats.', 'user': {'_id': '5a9ac18c7478810ea6c06381', 'name': {'first': 'Alex', 'last': 'Wohlbruck'}}, 'upvotes': 0, 'userUpvoted': None}, {'_id': '5d38bbb20f1c57001592f14f', 'type': 'cat', 'text': 'American Curl kittens are born with straight ears, but the ears begin to curl back after just a few days.', 'user': {'_id': '5a9ac18c7478810ea6c06381', 'name': {'first': 'Alex', 'last': 'Wohlbruck'}}, 'upvotes': 0, 'userUpvoted': None}, {'_id': '5d38bc0c0f1c57001592f150', 'type': 'cat', 'text': \"If your cat licks from the toilet, bathtub, or sink, she may be telling you something about the water bowl. Make sure it's clean, replace the water regularly to keep it from getting stale or developing a film on top, and if necessary, get a new bowl. Some cats prefer glass bowls to plastic.\", 'user': {'_id': '5a9ac18c7478810ea6c06381', 'name': {'first': 'Alex', 'last': 'Wohlbruck'}}, 'upvotes': 0, 'userUpvoted': None}, {'_id': '5d38bc630f1c57001592f151', 'type': 'cat', 'text': \"Georgia O'Keeffe was a celebrated painter, a figurehead of American modernism, a fashion icon, and... a cat owner! O'Keeffe kept a number of animals at her home in New Mexico, including her pet Siamese cat, who appears alongside O'Keeffe in a portrait shot by photographer John Candelario.\", 'user': {'_id': '5a9ac18c7478810ea6c06381', 'name': {'first': 'Alex', 'last': 'Wohlbruck'}}, 'upvotes': 0, 'userUpvoted': None}, {'_id': '5d38bc970f1c57001592f152', 'type': 'cat', 'text': 'The pink substance inside a cat\\'s nail is called the \"quick\" or the \"dermis\". When trimming your cat\\'s nails, be sure to only cut the upper white part of the nail, not the quick.', 'user': {'_id': '5a9ac18c7478810ea6c06381', 'name': {'first': 'Alex', 'last': 'Wohlbruck'}}, 'upvotes': 0, 'userUpvoted': None}, {'_id': '5d38bcc00f1c57001592f153', 'type': 'cat', 'text': 'The irresistable and cuddly Ragamuffin is the result of crossbreeding Ragdoll cats with Persians, Himalayans, and other larger longhaired breeds.', 'user': {'_id': '5a9ac18c7478810ea6c06381', 'name': {'first': 'Alex', 'last': 'Wohlbruck'}}, 'upvotes': 0, 'userUpvoted': None}, {'_id': '5d38bd180f1c57001592f154', 'type': 'cat', 'text': 'Cats are among only a few animals that walk by moving their two right legs one after another and then their two left legs, rather than moving diagonal limbs simultaneously. Giraffes and camels also have this quality.', 'user': {'_id': '5a9ac18c7478810ea6c06381', 'name': {'first': 'Alex', 'last': 'Wohlbruck'}}, 'upvotes': 0, 'userUpvoted': None}, {'_id': '5d38bd750f1c57001592f155', 'type': 'cat', 'text': \"Legend holds that a goddess rewarded a temple cat's piety by turning the cat's eyes blue and his coat golden, thus creating the first Birman cat.\", 'user': {'_id': '5a9ac18c7478810ea6c06381', 'name': {'first': 'Alex', 'last': 'Wohlbruck'}}, 'upvotes': 0, 'userUpvoted': None}, {'_id': '5d38bdab0f1c57001592f156', 'type': 'cat', 'text': \"While some cats love being brushed, others don't take to it naturally. Try to groom your cat in the same spot at the same time of day to create a sense of routine.\", 'user': {'_id': '5a9ac18c7478810ea6c06381', 'name': {'first': 'Alex', 'last': 'Wohlbruck'}}, 'upvotes': 0, 'userUpvoted': None}, {'_id': '5d38be370f1c57001592f158', 'type': 'cat', 'text': 'Kittens typically begin to engage in playful behavior at around four weeks of age.', 'user': {'_id': '5a9ac18c7478810ea6c06381', 'name': {'first': 'Alex', 'last': 'Wohlbruck'}}, 'upvotes': 0, 'userUpvoted': None}, {'_id': '5d38bb440f1c57001592f14c', 'type': 'cat', 'text': \"It's important for cats to have regular ear exams—this is something you can do at home! Gently fold back the ears and look into the ear canal. The inner ear should be pale pink with little to no earwax. If you notice redness, swelling, discharge, or a lot of earwax, it's time to see a veterinarian.\", 'user': {'_id': '5a9ac18c7478810ea6c06381', 'name': {'first': 'Alex', 'last': 'Wohlbruck'}}, 'upvotes': 0, 'userUpvoted': None}, {'_id': '5e4c4e10a38ae60015b04a7e', 'type': 'cat', 'text': \"Cats think humans have night vision too, so when we step on their tail in the middle of the night, they think it's on purpose.\", 'user': {'_id': '5e4c4dc5a38ae60015b04a7d', 'name': {'first': 'Nathaniel J', 'last': 'McDermott'}}, 'upvotes': 0, 'userUpvoted': None}, {'_id': '5e546a054e83e80015a0e320', 'type': 'cat', 'text': \"Contrary to popular belief, some cats actually don't mind water. The hairless Sphynx cat enjoys it, especially if it is warm.\", 'user': {'_id': '5e54675a4e83e80015a0e313', 'name': {'first': \"L'hibou\", 'last': 'Ambigu'}}, 'upvotes': 0, 'userUpvoted': None}, {'_id': '5e66bb2967112d00157b0d7c', 'type': 'cat', 'text': 'Cca.', 'user': {'_id': '5e66bb1367112d00157b0d7b', 'name': {'first': 'Ivan', 'last': 'Mercedes'}}, 'upvotes': 0, 'userUpvoted': None}, {'_id': '5e7fd487354b570015d37dea', 'type': 'cat', 'text': \"My Professor's mother in law accidentally started the laundry machine while her cat was inside. The Cat survived the trauma.\", 'user': {'_id': '5e7fd41e354b570015d37de9', 'name': {'first': 'Ussama Bin', 'last': 'Naveed'}}, 'upvotes': 0, 'userUpvoted': None}]}\n"
    }
   ],
   "source": [
    "import requests\n",
    "import json\n",
    "\n",
    "r = requests.get('https://cat-fact.herokuapp.com/facts')\n",
    "jrt = json.loads(r.text)\n",
    "print(jrt)"
   ]
  },
  {
   "cell_type": "code",
   "execution_count": 0,
   "metadata": {
    "colab": {},
    "colab_type": "code",
    "id": "RPISC-Y4UdOq"
   },
   "outputs": [],
   "source": []
  },
  {
   "cell_type": "code",
   "execution_count": 0,
   "metadata": {
    "colab": {},
    "colab_type": "code",
    "id": "H5EyeQRIUdOr"
   },
   "outputs": [],
   "source": []
  }
 ],
 "metadata": {
  "colab": {
   "name": "homework.ipynb",
   "provenance": []
  },
  "kernelspec": {
   "display_name": "Python 3",
   "language": "python",
   "name": "python3"
  },
  "language_info": {
   "codemirror_mode": {
    "name": "ipython",
    "version": 3
   },
   "file_extension": ".py",
   "mimetype": "text/x-python",
   "name": "python",
   "nbconvert_exporter": "python",
   "pygments_lexer": "ipython3",
   "version": "3.6.8-final"
  }
 },
 "nbformat": 4,
 "nbformat_minor": 1
}