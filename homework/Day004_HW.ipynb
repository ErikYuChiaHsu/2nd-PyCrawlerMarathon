{
 "cells": [
  {
   "cell_type": "markdown",
   "metadata": {
    "colab_type": "text",
    "id": "uSf0mVenUdOf"
   },
   "source": [
    "# 利用 Python 存取 API\n",
    "\n",
    "\n",
    "* 了解 Server Client 的架構與溝通方法\n",
    "* 知道 HTTP Request & Response 的內容\n",
    "* 什麼是 API？如何用 Python 程式存取 API 資料\n"
   ]
  },
  {
   "cell_type": "markdown",
   "metadata": {
    "colab_type": "text",
    "id": "FwvxVPZuUdOh"
   },
   "source": [
    "## 作業目標\n",
    "\n",
    "* 比較一下範例檔案中的「r.text」與「json.loads(r.text)」讀出來的內容有什麼差異\n",
    "* 自行尋找一個合適的 API 接口做練習，並且查看其回傳內容\n",
    "    * https://cat-fact.herokuapp.com/facts (來源：https://alexwohlbruck.github.io/cat-facts/)\n",
    "    * http://odata.wra.gov.tw/v4/RealtimeWaterLevel (來源：https://data.gov.tw/dataset/25768)\n",
    "\n"
   ]
  },
  {
   "cell_type": "markdown",
   "metadata": {
    "colab_type": "text",
    "id": "r5GIjwYuUdOi"
   },
   "source": [
    "### 比較一下範例檔案中的「r.text」與「json.loads(r.text)」讀出來的內容有什麼差異"
   ]
  },
  {
   "cell_type": "code",
   "execution_count": 6,
   "metadata": {},
   "outputs": [
    {
     "name": "stdout",
     "output_type": "stream",
     "text": "<class 'list'>\n<class 'str'>\n"
    }
   ],
   "source": [
    "import requests\n",
    "import json\n",
    "\n",
    "\n",
    "r = requests.get('https://api.github.com/events')\n",
    "\n",
    "jrt = json.loads(r.text)\n",
    "rt = r.text\n",
    "print(type(jrt))\n",
    "# 形式為list\n",
    "print(type(rt))\n",
    "# 形式為字串 "
   ]
  },
  {
   "cell_type": "markdown",
   "metadata": {
    "colab_type": "text",
    "id": "eJwMGD6XUdOn"
   },
   "source": [
    "### 自行尋找一個合適的 API 接口做練習，並且查看其回傳內容\n",
    "\n",
    "* https://cat-fact.herokuapp.com/facts (來源：https://alexwohlbruck.github.io/cat-facts/)\n",
    "* http://odata.wra.gov.tw/v4/RealtimeWaterLevel (來源：https://data.gov.tw/dataset/25768)\n"
   ]
  },
  {
   "cell_type": "code",
   "execution_count": 12,
   "metadata": {},
   "outputs": [
    {
     "name": "stdout",
     "output_type": "stream",
     "text": "', 'roadsection': '國道3號(土城交流道到樹林交流道)', 'meter': 46, 'area': 1, 'date_time': '2020-04-01T14:00:00.000Z', 'Congestion': 39.69, 'Predict_SP': 72.64, 'rn': 5}, {'district': 'N03', 'direc': 'S', 'roadsection': '國道3號(南深路交流道到木柵交流道)', 'meter': 20.597, 'area': 1, 'date_time': '2020-04-01T14:00:00.000Z', 'Congestion': 34.67, 'Predict_SP': 90.56, 'rn': 6}, {'district': 'N03', 'direc': 'N', 'roadsection': '國道3號(新台五路交流道到汐止系統交流道)', 'meter': 12.56, 'area': 1, 'date_time': '2020-04-01T14:00:00.000Z', 'Congestion': 34.16, 'Predict_SP': 89.24, 'rn': 7}, {'district': 'N03', 'direc': 'S', 'roadsection': '國道3號(新台五路交流道到南港交流道)', 'meter': 12.75, 'area': 1, 'date_time': '2020-04-01T14:00:00.000Z', 'Congestion': 29.74, 'Predict_SP': 95.08, 'rn': 8}, {'district': 'N03', 'direc': 'S', 'roadsection': '國道3號(南深路交流道到木柵交流道)', 'meter': 17.109, 'area': 1, 'date_time': '2020-04-01T14:00:00.000Z', 'Congestion': 28.36, 'Predict_SP': 64.94, 'rn': 9}, {'district': 'N03', 'direc': 'E', 'roadsection': '國道3號(安坑交流道到新店交流道)', 'meter': 31, 'area': 1, 'date_time': '2020-04-01T14:00:00.000Z', 'Congestion': 28.04, 'Predict_SP': 68.51, 'rn': 10}, {'district': 'N03', 'direc': 'N', 'roadsection': '國道3號(龍井交流道到沙鹿交流道)', 'meter': 182, 'area': 2, 'date_time': '2020-04-01T14:00:00.000Z', 'Congestion': 60, 'Predict_SP': 45.68, 'rn': 1}, {'district': 'N03', 'direc': 'N', 'roadsection': '國道3號(通霄交流道到西湖服務區)', 'meter': 144, 'area': 2, 'date_time': '2020-04-01T14:00:00.000Z', 'Congestion': 60, 'Predict_SP': 50.61, 'rn': 2}, {'district': 'N03', 'direc': 'S', 'roadsection': '國道3號(和美交流道到彰化系統交流道)', 'meter': 196, 'area': 2, 'date_time': '2020-04-01T14:00:00.000Z', 'Congestion': 60, 'Predict_SP': 68.52, 'rn': 3}, {'district': 'N03', 'direc': 'S', 'roadsection': '國道3號(後龍交流道到西湖服務區)', 'meter': 134, 'area': 2, 'date_time': '2020-04-01T14:00:00.000Z', 'Congestion': 60, 'Predict_SP': 47.15, 'rn': 4}, {'district': 'N03', 'direc': 'S', 'roadsection': '國道3號(龍井交流道到和美交流道)', 'meter': 191, 'area': 2, 'date_time': '2020-04-01T14:00:00.000Z', 'Congestion': 60, 'Predict_SP': 52.7, 'rn': 5}, {'district': 'N03', 'direc': 'S', 'roadsection': '國道3號(中港系統交流道到清水服務區)', 'meter': 172, 'area': 2, 'date_time': '2020-04-01T14:00:00.000Z', 'Congestion': 60, 'Predict_SP': 43.16, 'rn': 6}, {'district': 'N03', 'direc': 'S', 'roadsection': '國道3號(通霄交流道到苑裡交流道)', 'meter': 156, 'area': 2, 'date_time': '2020-04-01T14:00:00.000Z', 'Congestion': 60, 'Predict_SP': 68.07, 'rn': 7}, {'district': 'N03', 'direc': 'S', 'roadsection': '國道3號(斗六交流道到古坑(北)交流道)', 'meter': 262.595, 'area': 2, 'date_time': '2020-04-01T14:00:00.000Z', 'Congestion': 60, 'Predict_SP': 105.28, 'rn': 8}, {'district': 'N03', 'direc': 'S', 'roadsection': '國道3號(霧峰系統交流道到草屯交流道)', 'meter': 217, 'area': 2, 'date_time': '2020-04-01T14:00:00.000Z', 'Congestion': 60, 'Predict_SP': 67.27, 'rn': 9}, {'district': 'N03', 'direc': 'N', 'roadsection': '國道3號(沙鹿交流道到清水服務區)', 'meter': 176, 'area': 2, 'date_time': '2020-04-01T14:00:00.000Z', 'Congestion': 59.55, 'Predict_SP': 46.77, 'rn': 10}, {'district': 'N03', 'direc': 'S', 'roadsection': '國道3號(善化交流道到新化系統交流道)', 'meter': 346, 'area': 3, 'date_time': '2020-04-01T14:00:00.000Z', 'Congestion': 37.15, 'Predict_SP': 56, 'rn': 1}, {'district': 'N03', 'direc': 'S', 'roadsection': '國道3號(官田系統交流道到善化交流道)', 'meter': 340, 'area': 3, 'date_time': '2020-04-01T14:00:00.000Z', 'Congestion': 30.48, 'Predict_SP': 38.15, 'rn': 2}, {'district': 'N03', 'direc': 'N', 'roadsection': '國道3號(官田系統交流道到烏山頭交流道)', 'meter': 334, 'area': 3, 'date_time': '2020-04-01T14:00:00.000Z', 'Congestion': 30.25, 'Predict_SP': 36.75, 'rn': 3}, {'district': 'N03', 'direc': 'S', 'roadsection': '國道3號(燕巢系統交流道到九如交流道)', 'meter': 391, 'area': 3, 'date_time': '2020-04-01T14:00:00.000Z', 'Congestion': 30.15, 'Predict_SP': 37.55, 'rn': 4}, {'district': 'N03', 'direc': 'N', 'roadsection': '國道3號(林邊交流道到南州交流道)', 'meter': 428.628, 'area': 3, 'date_time': '2020-04-01T14:00:00.000Z', 'Congestion': 28.06, 'Predict_SP': 91.05, 'rn': 5}, {'district': 'N03', 'direc': 'S', 'roadsection': '國道3號(水上系統交流道到白河交流道)', 'meter': 311, 'area': 3, 'date_time': '2020-04-01T14:00:00.000Z', 'Congestion': 25.94, 'Predict_SP': 38.52, 'rn': 6}, {'district': 'N03', 'direc': 'S', 'roadsection': '國道3號(燕巢系統交流道到九如交流道)', 'meter': 391, 'area': 3, 'date_time': '2020-04-01T14:00:00.000Z', 'Congestion': 21.53, 'Predict_SP': 30.72, 'rn': 7}, {'district': 'N03', 'direc': 'S', 'roadsection': '國道3號(白河交流道到東山服務區)', 'meter': 318.085, 'area': 3, 'date_time': '2020-04-01T14:00:00.000Z', 'Congestion': 21.5, 'Predict_SP': 114.38, 'rn': 8}, {'district': 'N03', 'direc': 'N', 'roadsection': '國道3號(南州交流道到崁頂交流道)', 'meter': 422.787, 'area': 3, 'date_time': '2020-04-01T14:00:00.000Z', 'Congestion': 21.16, 'Predict_SP': 97.39, 'rn': 9}, {'district': 'N03', 'direc': 'N', 'roadsection': '國道3號(林邊交流道到南州交流道)', 'meter': 426.676, 'area': 3, 'date_time': '2020-04-01T14:00:00.000Z', 'Congestion': 19.82, 'Predict_SP': 93.21, 'rn': 10}, {'district': 'N05', 'direc': 'S', 'roadsection': '國道5號(羅東交流道到蘇澳交流道)', 'meter': 54, 'area': 1, 'date_time': '2020-04-01T14:00:00.000Z', 'Congestion': 45.97, 'Predict_SP': 78.28, 'rn': 1}, {'district': 'N05', 'direc': 'N', 'roadsection': '國道5號(石碇交流道到南港系統交流道)', 'meter': 3.943, 'area': 1, 'date_time': '2020-04-01T14:00:00.000Z', 'Congestion': 18.99, 'Predict_SP': 77.89, 'rn': 2}, {'district': 'N05', 'direc': 'N', 'roadsection': '國道5號(頭城交流道到坪林行控交流道)', 'meter': 21.808, 'area': 1, 'date_time': '2020-04-01T14:00:00.000Z', 'Congestion': 18.85, 'Predict_SP': 75.36, 'rn': 3}, {'district': 'N05', 'direc': 'N', 'roadsection': '國道5號(頭城交流道到坪林行控交流道)', 'meter': 22.51, 'area': 1, 'date_time': '2020-04-01T14:00:00.000Z', 'Congestion': 17.99, 'Predict_SP': 76.57, 'rn': 4}, {'district': 'N05', 'direc': 'N', 'roadsection': '國道5號(宜蘭交流道到頭城交流道)', 'meter': 37.225, 'area': 1, 'date_time': '2020-04-01T14:00:00.000Z', 'Congestion': 17.92, 'Predict_SP': 94.32, 'rn': 5}, {'district': 'N05', 'direc': 'N', 'roadsection': '國道5號(頭城交流道到坪林行控交流道)', 'meter': 21.055, 'area': 1, 'date_time': '2020-04-01T14:00:00.000Z', 'Congestion': 17.85, 'Predict_SP': 70.96, 'rn': 6}, {'district': 'N05', 'direc': 'N', 'roadsection': '國道5號(頭城交流道到坪林行控交流道)', 'meter': 17.608, 'area': 1, 'date_time': '2020-04-01T14:00:00.000Z', 'Congestion': 17.75, 'Predict_SP': 72.56, 'rn': 7}, {'district': 'N05', 'direc': 'N', 'roadsection': '國道5號(頭城交流道到坪林行控交流道)', 'meter': 16.9, 'area': 1, 'date_time': '2020-04-01T14:00:00.000Z', 'Congestion': 17.32, 'Predict_SP': 71.58, 'rn': 8}, {'district': 'N05', 'direc': 'S', 'roadsection': '國道5號(石碇交流道到坪林行控交流道)', 'meter': 14, 'area': 1, 'date_time': '2020-04-01T14:00:00.000Z', 'Congestion': 17, 'Predict_SP': 70.13, 'rn': 9}, {'district': 'N05', 'direc': 'N', 'roadsection': '國道5號(頭城交流道到坪林行控交流道)', 'meter': 18.313, 'area': 1, 'date_time': '2020-04-01T14:00:00.000Z', 'Congestion': 16.87, 'Predict_SP': 74.92, 'rn': 10}, {'district': 'N01', 'direc': 'N', 'roadsection': '國道1號(平鎮系統交流道到中壢交流道)', 'meter': 65, 'area': 1, 'date_time': '2020-04-01T15:00:00.000Z', 'Congestion': 75.95, 'Predict_SP': 50.55, 'rn': 1}, {'district': 'N01', 'direc': 'S', 'roadsection': '國道1號(機場系統交流道到中壢服務區)', 'meter': 55, 'area': 1, 'date_time': '2020-04-01T15:00:00.000Z', 'Congestion': 60, 'Predict_SP': 36.87, 'rn': 2}, {'district': 'N01', 'direc': 'N', 'roadsection': '國道1號(新竹交流道到竹北交流道)', 'meter': 95, 'area': 1, 'date_time': '2020-04-01T15:00:00.000Z', 'Congestion': 60, 'Predict_SP': 38.42, 'rn': 3}, {'district': 'N01', 'direc': 'S', 'roadsection': '國道1號(中壢服務區到內壢交流道)', 'meter': 57, 'area': 1, 'date_time': '2020-04-01T15:00:00.000Z', 'Congestion': 25.41, 'Predict_SP': 49.18, 'rn': 4}, {'district': 'N01', 'direc': 'N', 'roadsection': '國道1號(台北交流道到圓山交流道)', 'meter': 25, 'area': 1, 'date_time': '2020-04-01T15:00:00.000Z', 'Congestion': 18.1, 'Predict_SP': 43.66, 'rn': 5}, {'district': 'N01', 'direc': 'N', 'roadsection': '國道1號(東湖交流道到高架汐止端)', 'meter': 15, 'area': 1, 'date_time': '2020-04-01T15:00:00.000Z', 'Congestion': 18.1, 'Predict_SP': 40.39, 'rn': 6}, {'district': 'N01', 'direc': 'S', 'roadsection': '國道1號(五堵交流道到汐止交流道)', 'meter': 9, 'area': 1, 'date_time': '2020-04-01T15:00:00.000Z', 'Congestion': 18.02, 'Predict_SP': 32.16, 'rn': 7}, {'district': 'N01', 'direc': 'S', 'roadsection': '國道1號(內湖交流道到圓山交流道)', 'meter': 23, 'area': 1, 'date_time': '2020-04-01T15:00:00.000Z', 'Congestion': 17.53, 'Predict_SP': 40.31, 'rn': 8}, {'district': 'N01', 'direc': 'S', 'roadsection': '國道1號(新竹系統交流道到頭份交流道)', 'meter': 100.57, 'area': 1, 'date_time': '2020-04-01T15:00:00.000Z', 'Congestion': 17.36, 'Predict_SP': 98.84, 'rn': 9}, {'district': 'N01', 'direc': 'N', 'roadsection': '國道1號(湖口服務區到湖口交流道)', 'meter': 86.122, 'area': 1, 'date_time': '2020-04-01T15:00:00.000Z', 'Congestion': 16.9, 'Predict_SP': 77.7, 'rn': 10}, {'district': 'N01', 'direc': 'S', 'roadsection': '國道1號(豐原交流道到大雅交流道)', 'meter': 174, 'area': 2, 'date_time': '2020-04-01T15:00:00.000Z', 'Congestion': 60, 'Predict_SP': 52.59, 'rn': 1}, {'district': 'N01', 'direc': 'N', 'roadsection': '國道1號(泰安服務區到三義交流道)', 'meter': 158, 'area': 2, 'date_time': '2020-04-01T15:00:00.000Z', 'Congestion': 60, 'Predict_SP': 41.92, 'rn': 2}, {'district': 'N01', 'direc': 'S', 'roadsection': '國道1號(彰化系統交流道到彰化交流道)', 'meter': 198, 'area': 2, 'date_time': '2020-04-01T15:00:00.000Z', 'Congestion': 60, 'Predict_SP': 41.92, 'rn': 3}, {'district': 'N01', 'direc': 'S', 'roadsection': '國道1號(員林交流道到北斗交流道)', 'meter': 220, 'area': 2, 'date_time': '2020-04-01T15:00:00.000Z', 'Congestion': 60, 'Predict_SP': 48.24, 'rn': 4}, {'district': 'N01', 'direc': 'S', 'roadsection': '國道1號(銅鑼交流道到三義交流道)', 'meter': 150, 'area': 2, 'date_time': '2020-04-01T15:00:00.000Z', 'Congestion': 60, 'Predict_SP': 55.37, 'rn': 5}, {'district': 'N01', 'direc': 'N', 'roadsection': '國道1號(苗栗交流道到頭屋交流道)', 'meter': 132, 'area': 2, 'date_time': '2020-04-01T15:00:00.000Z', 'Congestion': 60, 'Predict_SP': 36.03, 'rn': 6}, {'district': 'N01', 'direc': 'N', 'roadsection': '國道1號(斗南交流道到虎尾交流道)', 'meter': 240, 'area': 2, 'date_time': '2020-04-01T15:00:00.000Z', 'Congestion': 60, 'Predict_SP': 68.84, 'rn': 7}, {'district': 'N01', 'direc': 'S', 'roadsection': '國道1號(彰化系統交流道到彰化交流道)', 'meter': 198, 'area': 2, 'date_time': '2020-04-01T15:00:00.000Z', 'Congestion': 60, 'Predict_SP': 37.24, 'rn': 8}, {'district': 'N01', 'direc': 'N', 'roadsection': '國道1號(大雅交流道到豐原交流道)', 'meter': 174, 'area': 2, 'date_time': '2020-04-01T15:00:00.000Z', 'Congestion': 60, 'Predict_SP': 42.48, 'rn': 9}, {'district': 'N01', 'direc': 'S', 'roadsection': '國道1號(虎尾交流道到斗南交流道)', 'meter': 240, 'area': 2, 'date_time': '2020-04-01T15:00:00.000Z', 'Congestion': 60, 'Predict_SP': 63.85, 'rn': 10}, {'district': 'N01', 'direc': 'S', 'roadsection': '國道1號(台南交流道到仁德系統交流道)', 'meter': 327.65, 'area': 3, 'date_time': '2020-04-01T15:00:00.000Z', 'Congestion': 77.38, 'Predict_SP': 104.42, 'rn': 1}, {'district': 'N01', 'direc': 'S', 'roadsection': '國道1號(麻豆交流道到安定交流道)', 'meter': 311, 'area': 3, 'date_time': '2020-04-01T15:00:00.000Z', 'Congestion': 66.97, 'Predict_SP': 37.36, 'rn': 2}, {'district': 'N01', 'direc': 'N', 'roadsection': '國道1號(麻豆交流道到下營系統交流道)', 'meter': 303, 'area': 3, 'date_time': '2020-04-01T15:00:00.000Z', 'Congestion': 60, 'Predict_SP': 37.55, 'rn': 3}, {'district': 'N01', 'direc': 'N', 'roadsection': '國道1號(嘉義交流道到民雄交流道)', 'meter': 264, 'area': 3, 'date_time': '2020-04-01T15:00:00.000Z', 'Congestion': 60, 'Predict_SP': 37.3, 'rn': 4}, {'district': 'N01', 'direc': 'N', 'roadsection': '國道1號(永康交流道到台南系統交流道)', 'meter': 319, 'area': 3, 'date_time': '2020-04-01T15:00:00.000Z', 'Congestion': 60, 'Predict_SP': 39.79, 'rn': 5}, {'district': 'N01', 'direc': 'N', 'roadsection': '國道1號(大林交流道到雲林系統交流道)', 'meter': 250, 'area': 3, 'date_time': '2020-04-01T15:00:00.000Z', 'Congestion': 46.7, 'Predict_SP': 60.45, 'rn': 6}, {'district': 'N01', 'direc': 'N', 'roadsection': '國道1號(仁德服務區到仁德系統交流道)', 'meter': 335, 'area': 3, 'date_time': '2020-04-01T15:00:00.000Z', 'Congestion': 46.69, 'Predict_SP': 62.23, 'rn': 7}, {'district': 'N01', 'direc': 'N', 'roadsection': '國道1號(大林交流道到雲林系統交流道)', 'meter': 250, 'area': 3, 'date_time': '2020-04-01T15:00:00.000Z', 'Congestion': 45.75, 'Predict_SP': 42.41, 'rn': 8}, {'district': 'N01', 'direc': 'S', 'roadsection': '國道1號(嘉義交流道到水上交流道)', 'meter': 270, 'area': 3, 'date_time': '2020-04-01T15:00:00.000Z', 'Congestion': 36.4, 'Predict_SP': 77.78, 'rn': 9}, {'district': 'N01', 'direc': 'N', 'roadsection': '國道1號(岡山交流道到高科交流道)', 'meter': 349, 'area': 3, 'date_time': '2020-04-01T15:00:00.000Z', 'Congestion': 34.52, 'Predict_SP': 56.62, 'rn': 10}, {'district': 'N03', 'direc': 'E', 'roadsection': '國道3號(關西交流道到關西服務區)', 'meter': 79, 'area': 1, 'date_time': '2020-04-01T15:00:00.000Z', 'Congestion': 60, 'Predict_SP': 38.42, 'rn': 1}, {'district': 'N03', 'direc': 'N', 'roadsection': '國道3號(龍潭交流道到大溪交流道)', 'meter': 68, 'area': 1, 'date_time': '2020-04-01T15:00:00.000Z', 'Congestion': 49.02, 'Predict_SP': 43.79, 'rn': 2}, {'district': 'N03', 'direc': 'N', 'roadsection': '國道3號(新竹系統交流道到寶山交流道)', 'meter': 100, 'area': 1, 'date_time': '2020-04-01T15:00:00.000Z', 'Congestion': 46.89, 'Predict_SP': 50.58, 'rn': 3}, {'district': 'N03', 'direc': 'N', 'roadsection': '國道3號(南港交流道到新台五路交流道)', 'meter': 13.505, 'area': 1, 'date_time': '2020-04-01T15:00:00.000Z', 'Congestion': 43.82, 'Predict_SP': 80.04, 'rn': 4}, {'district': 'N03', 'direc': 'E', 'roadsection': '國道3號(安坑交流道到新店交流道)', 'meter': 31, 'area': 1, 'date_time': '2020-04-01T15:00:00.000Z', 'Congestion': 26.6, 'Predict_SP': 77.13, 'rn': 5}, {'district': 'N03', 'direc': 'S', 'roadsection': '國道3號(南深路交流道到木柵交流道)', 'meter': 17.109, 'area': 1, 'date_time': '2020-04-01T15:00:00.000Z', 'Congestion': 22.07, 'Predict_SP': 64.07, 'rn': 6}, {'district': 'N03', 'direc': 'S', 'roadsection': '國道3號(新台五路交流道到南港交流道)', 'meter': 12.75, 'area': 1, 'date_time': '2020-04-01T15:00:00.000Z', 'Congestion': 21.02, 'Predict_SP': 94.62, 'rn': 7}, {'district': 'N03', 'direc': 'S', 'roadsection': '國道3號(關西交流道到竹林交流道)', 'meter': 85.01, 'area': 1, 'date_time': '2020-04-01T15:00:00.000Z', 'Congestion': 20.84, 'Predict_SP': 110.61, 'rn': 8}, {'district': 'N03', 'direc': 'N', 'roadsection': '國道3號(新台五路交流道到汐止系統交流道)', 'meter': 12.56, 'area': 1, 'date_time': '2020-04-01T15:00:00.000Z', 'Congestion': 19.67, 'Predict_SP': 88.66, 'rn': 9}, {'district': 'N03', 'direc': 'S', 'roadsection': '國道3號(南深路交流道到木柵交流道)', 'meter': 20.597, 'area': 1, 'date_time': '2020-04-01T15:00:00.000Z', 'Congestion': 19.58, 'Predict_SP': 92.75, 'rn': 10}, {'district': 'N03', 'direc': 'S', 'roadsection': '國道3號(中港系統交流道到清水服務區)', 'meter': 172, 'area': 2, 'date_time': '2020-04-01T15:00:00.000Z', 'Congestion': 60, 'Predict_SP': 42.96, 'rn': 1}, {'district': 'N03', 'direc': 'S', 'roadsection': '國道3號(通霄交流道到苑裡交流道)', 'meter': 156, 'area': 2, 'date_time': '2020-04-01T15:00:00.000Z', 'Congestion': 60, 'Predict_SP': 68.5, 'rn': 2}, {'district': 'N03', 'direc': 'S', 'roadsection': '國道3號(斗六交流道到古坑(北)交流道)', 'meter': 262.595, 'area': 2, 'date_time': '2020-04-01T15:00:00.000Z', 'Congestion': 60, 'Predict_SP': 104.84, 'rn': 3}, {'district': 'N03', 'direc': 'S', 'roadsection': '國道3號(霧峰系統交流道到草屯交流道)', 'meter': 217, 'area': 2, 'date_time': '2020-04-01T15:00:00.000Z', 'Congestion': 60, 'Predict_SP': 67.9, 'rn': 4}, {'district': 'N03', 'direc': 'S', 'roadsection': '國道3號(和美交流道到彰化系統交流道)', 'meter': 196, 'area': 2, 'date_time': '2020-04-01T15:00:00.000Z', 'Congestion': 60, 'Predict_SP': 67.65, 'rn': 5}, {'district': 'N03', 'direc': 'S', 'roadsection': '國道3號(後龍交流道到西湖服務區)', 'meter': 134, 'area': 2, 'date_time': '2020-04-01T15:00:00.000Z', 'Congestion': 60, 'Predict_SP': 46.53, 'rn': 6}, {'district': 'N03', 'direc': 'S', 'roadsection': '國道3號(龍井交流道到和美交流道)', 'meter': 191, 'area': 2, 'date_time': '2020-04-01T15:00:00.000Z', 'Congestion': 57.52, 'Predict_SP': 50.87, 'rn': 7}, {'district': 'N03', 'direc': 'N', 'roadsection': '國道3號(通霄交流道到西湖服務區)', 'meter': 144, 'area': 2, 'date_time': '2020-04-01T15:00:00.000Z', 'Congestion': 53.66, 'Predict_SP': 50.61, 'rn': 8}, {'district': 'N03', 'direc': 'N', 'roadsection': '國道3號(龍井交流道到沙鹿交流道)', 'meter': 182, 'area': 2, 'date_time': '2020-04-01T15:00:00.000Z', 'Congestion': 52, 'Predict_SP': 45.94, 'rn': 9}, {'district': 'N03', 'direc': 'N', 'roadsection': '國道3號(沙鹿交流道到清水服務區)', 'meter': 176, 'area': 2, 'date_time': '2020-04-01T15:00:00.000Z', 'Congestion': 50.49, 'Predict_SP': 47.15, 'rn': 10}, {'district': 'N03', 'direc': 'S', 'roadsection': '國道3號(善化交流道到新化系統交流道)', 'meter': 346, 'area': 3, 'date_time': '2020-04-01T15:00:00.000Z', 'Congestion': 41.39, 'Predict_SP': 56.94, 'rn': 1}, {'district': 'N03', 'direc': 'N', 'roadsection': '國道3號(林邊交流道到南州交流道)', 'meter': 428.628, 'area': 3, 'date_time': '2020-04-01T15:00:00.000Z', 'Congestion': 23.78, 'Predict_SP': 90.9, 'rn': 2}, {'district': 'N03', 'direc': 'S', 'roadsection': '國道3號(官田系統交流道到善化交流道)', 'meter': 340, 'area': 3, 'date_time': '2020-04-01T15:00:00.000Z', 'Congestion': 21.34, 'Predict_SP': 38.08, 'rn': 3}, {'district': 'N03', 'direc': 'S', 'roadsection': '國道3號(燕巢系統交流道到九如交流道)', 'meter': 391, 'area': 3, 'date_time': '2020-04-01T15:00:00.000Z', 'Congestion': 20.36, 'Predict_SP': 30.98, 'rn': 4}, {'district': 'N03', 'direc': 'N', 'roadsection': '國道3號(南州交流道到崁頂交流道)', 'meter': 422.787, 'area': 3, 'date_time': '2020-04-01T15:00:00.000Z', 'Congestion': 17.57, 'Predict_SP': 96.25, 'rn': 5}, {'district': 'N03', 'direc': 'S', 'roadsection': '國道3號(新化休息站到關廟交流道)', 'meter': 352.215, 'area': 3, 'date_time': '2020-04-01T15:00:00.000Z', 'Congestion': 16.4, 'Predict_SP': 97.91, 'rn': 6}, {'district': 'N03', 'direc': 'S', 'roadsection': '國道3號(水上系統交流道到白河交流道)', 'meter': 311, 'area': 3, 'date_time': '2020-04-01T15:00:00.000Z', 'Congestion': 15.99, 'Predict_SP': 38.47, 'rn': 7}, {'district': 'N03', 'direc': 'N', 'roadsection': '國道3號(林邊交流道到南州交流道)', 'meter': 426.676, 'area': 3, 'date_time': '2020-04-01T15:00:00.000Z', 'Congestion': 15.07, 'Predict_SP': 95.23, 'rn': 8}, {'district': 'N03', 'direc': 'S', 'roadsection': '國道3號(長治交流道到麟洛交流道)', 'meter': 402.503, 'area': 3, 'date_time': '2020-04-01T15:00:00.000Z', 'Congestion': 13.4, 'Predict_SP': 99.43, 'rn': 9}, {'district': 'N03', 'direc': 'S', 'roadsection': '國道3號(白河交流道到東山服務區)', 'meter': 318.085, 'area': 3, 'date_time': '2020-04-01T15:00:00.000Z', 'Congestion': 13.02, 'Predict_SP': 114.9, 'rn': 10}, {'district': 'N05', 'direc': 'S', 'roadsection': '國道5號(羅東交流道到蘇澳交流道)', 'meter': 54, 'area': 1, 'date_time': '2020-04-01T15:00:00.000Z', 'Congestion': 32.94, 'Predict_SP': 78.85, 'rn': 1}, {'district': 'N05', 'direc': 'S', 'roadsection': '國道5號(石碇交流道到坪林行控交流道)', 'meter': 14, 'area': 1, 'date_time': '2020-04-01T15:00:00.000Z', 'Congestion': 13.91, 'Predict_SP': 70.31, 'rn': 2}, {'district': 'N05', 'direc': 'N', 'roadsection': '國道5號(宜蘭交流道到頭城交流道)', 'meter': 37.225, 'area': 1, 'date_time': '2020-04-01T15:00:00.000Z', 'Congestion': 13.85, 'Predict_SP': 94.19, 'rn': 3}, {'district': 'N05', 'direc': 'S', 'roadsection': '國道5號(石碇交流道到坪林行控交流道)', 'meter': 14, 'area': 1, 'date_time': '2020-04-01T15:00:00.000Z', 'Congestion': 13.64, 'Predict_SP': 34.65, 'rn': 4}, {'district': 'N05', 'direc': 'N', 'roadsection': '國道5號(宜蘭交流道到頭城交流道)', 'meter': 36.073, 'area': 1, 'date_time': '2020-04-01T15:00:00.000Z', 'Congestion': 13.27, 'Predict_SP': 94.07, 'rn': 5}, {'district': 'N05', 'direc': 'N', 'roadsection': '國道5號(坪林行控交流道到石碇交流道)', 'meter': 9.028, 'area': 1, 'date_time': '2020-04-01T15:00:00.000Z', 'Congestion': 12.44, 'Predict_SP': 80.25, 'rn': 6}, {'district': 'N05', 'direc': 'S', 'roadsection': '國道5號(宜蘭交流道到羅東交流道)', 'meter': 41.298, 'area': 1, 'date_time': '2020-04-01T15:00:00.000Z', 'Congestion': 11.76, 'Predict_SP': 97.67, 'rn': 7}, {'district': 'N05', 'direc': 'N', 'roadsection': '國道5號(頭城交流道到坪林行控交流道)', 'meter': 21.808, 'area': 1, 'date_time': '2020-04-01T15:00:00.000Z', 'Congestion': 11.08, 'Predict_SP': 77.61, 'rn': 8}, {'district': 'N05', 'direc': 'S', 'roadsection': '國道5號(石碇交流道到坪林行控交流道)', 'meter': 4.633, 'area': 1, 'date_time': '2020-04-01T15:00:00.000Z', 'Congestion': 11, 'Predict_SP': 81.14, 'rn': 9}, {'district': 'N05', 'direc': 'N', 'roadsection': '國道5號(頭城交流道到坪林行控交流道)', 'meter': 30, 'area': 1, 'date_time': '2020-04-01T15:00:00.000Z', 'Congestion': 10.98, 'Predict_SP': 70.15, 'rn': 10}]\n"
    }
   ],
   "source": [
    "import requests\n",
    "import json\n",
    "\n",
    "r = requests.get('http://61.216.7.241:3013/highway_vd_info')\n",
    "jrt = json.loads(r.text)\n",
    "print(jrt)"
   ]
  },
  {
   "cell_type": "code",
   "execution_count": 0,
   "metadata": {
    "colab": {},
    "colab_type": "code",
    "id": "RPISC-Y4UdOq"
   },
   "outputs": [],
   "source": []
  },
  {
   "cell_type": "code",
   "execution_count": 0,
   "metadata": {
    "colab": {},
    "colab_type": "code",
    "id": "H5EyeQRIUdOr"
   },
   "outputs": [],
   "source": []
  }
 ],
 "metadata": {
  "colab": {
   "name": "homework.ipynb",
   "provenance": []
  },
  "kernelspec": {
   "display_name": "Python 3",
   "language": "python",
   "name": "python3"
  },
  "language_info": {
   "codemirror_mode": {
    "name": "ipython",
    "version": 3
   },
   "file_extension": ".py",
   "mimetype": "text/x-python",
   "name": "python",
   "nbconvert_exporter": "python",
   "pygments_lexer": "ipython3",
   "version": "3.6.8-final"
  }
 },
 "nbformat": 4,
 "nbformat_minor": 1
}