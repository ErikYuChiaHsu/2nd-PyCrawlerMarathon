{
 "cells": [
  {
   "cell_type": "markdown",
   "metadata": {},
   "source": [
    "# PTT 網路爬蟲實作練習\n",
    "\n",
    "\n",
    "* 能夠利用 Request + BeatifulSour 撰寫爬蟲，並存放到合適的資料結構\n"
   ]
  },
  {
   "cell_type": "markdown",
   "metadata": {},
   "source": [
    "## 作業目標\n",
    "\n",
    "根據範例 ，完成以下問題：\n",
    "\n",
    "* ① 印出最新文章的「作者」「標題」「時間」\n",
    "* ② 印出第一頁所有文章的「作者」「標題」「時間」\n"
   ]
  },
  {
   "cell_type": "markdown",
   "metadata": {},
   "source": [
    "### ① 印出最新文章的「作者」「標題」「時間」"
   ]
  },
  {
   "cell_type": "code",
   "execution_count": 25,
   "metadata": {},
   "outputs": [
    {
     "output_type": "stream",
     "name": "stdout",
     "text": "auther                   f820203 (frankkao)\ntitle     Re: [討論] NBA應屆選秀球員簡介以及個人Big Board\ndate                    2020-05-27 17:35:34\nName: 4, dtype: object\n"
    }
   ],
   "source": [
    "import requests\n",
    "from bs4 import BeautifulSoup\n",
    "import pandas as pd\n",
    "from datetime import datetime\n",
    "\n",
    "ZZZ = lambda x:datetime.strptime(x,\"%a %b %d %H:%M:%S %Y\")\n",
    "\n",
    "url = 'https://www.ptt.cc/bbs/NBA/index.html'\n",
    "r = requests.get(url)\n",
    "\n",
    "soup = BeautifulSoup(r.text, \"html5lib\")\n",
    "\n",
    "list11 = []\n",
    "for d in soup.find_all(class_=\"r-ent\"):    \n",
    "    \n",
    "    try:\n",
    "        # print(\"https://www.ptt.cc\" + d.find(class_=\"title\").find('a')['href']) #網址\n",
    "        resp = BeautifulSoup(requests.get(\"https://www.ptt.cc\" + d.find(class_=\"title\").find('a')['href']).text, 'html5lib')\n",
    "        auther = resp.find_all(class_='article-meta-value')[0].text\n",
    "        # print(resp.find_all(class_='article-meta-value')[1].text)\n",
    "        title = resp.find_all(class_='article-meta-value')[2].text\n",
    "        date = resp.find_all(class_='article-meta-value')[3].text\n",
    "\n",
    "        arr = [auther, title, date]\n",
    "        list11.append(arr) \n",
    "    except:\n",
    "        continue\n",
    "\n",
    "data = pd.DataFrame(list11, columns = ['auther', 'title', 'date'])\n",
    "data['date'] = data['date'].apply(ZZZ)\n",
    "data.sort_values(by = 'date', inplace = True)\n",
    "\n",
    "print(data.iloc[-1,:])"
   ]
  },
  {
   "cell_type": "markdown",
   "metadata": {},
   "source": [
    "### ② 印出第一頁所有文章的「作者」「標題」「時間」"
   ]
  },
  {
   "cell_type": "code",
   "execution_count": 26,
   "metadata": {},
   "outputs": [
    {
     "output_type": "stream",
     "name": "stdout",
     "text": "auther                                title  \\\n5       qazwsx879345 (Rajon Rondo)                        [公告] 版主上任相關事項   \n6                     Acetoxy (阿斯)  [情報] SEASON Schedule 賽程 March 19–20   \n7                       Vedan (味丹)                [公告] 第一次被退文，可在三天後刪除退文   \n8                       Vedan (味丹)                            [公告] 板務說明   \n0               ijk77692 (貓咪大使 <3)                    [討論] 姚明跟Dirk誰比較強？   \n1  jimmy5680 (If Penguins May Fly)     [情報] Perkins: Michael Jordan是個騙子   \n2                   XperiaZ6C (索尼)              [新聞] 只有他辦到！對戰喬丹、布萊恩、詹皇都   \n3                   Kowloon (九龍艦長)               [花邊] 黑人遭警壓制亡 詹皇怒發聲…網氣炸   \n4               f820203 (frankkao)    Re: [討論] NBA應屆選秀球員簡介以及個人Big Board   \n\n                 date  \n5 2019-10-25 10:44:03  \n6 2020-03-02 01:19:40  \n7 2020-03-09 11:44:26  \n8 2020-04-03 01:28:00  \n0 2020-05-27 14:40:10  \n1 2020-05-27 16:09:42  \n2 2020-05-27 16:44:29  \n3 2020-05-27 17:34:05  \n4 2020-05-27 17:35:34  \n"
    }
   ],
   "source": [
    "print(data)"
   ]
  },
  {
   "cell_type": "markdown",
   "metadata": {},
   "source": [
    "### ③ 試著爬爬看其他版的文章"
   ]
  },
  {
   "cell_type": "code",
   "execution_count": 31,
   "metadata": {},
   "outputs": [
    {
     "output_type": "stream",
     "name": "stdout",
     "text": "[心得] 黑暗騎士 黎明升起最大的敗筆 clarkkent13  5/27\n[討論] 湯姆希德斯頓最帥的電影 bunnyqaqq  5/27\nRe: [新聞] 湯姆克魯斯正計畫實際上外太空拍片 sate  5/27\n[情報] 威秀獨家「台灣驚典影展」重映《詭絲》等片 qpr322  5/27\nRe: [討論] 葉問4:被激怒到踹LP zhunhantsai  5/27\nRe: [請益] 實體光碟的導演講評附字幕是不是常態? MESSIJACK  5/27\n[新聞] 道格李曼陪阿湯上太空！「魔王迷宮2」籌 CYKONGG  5/27\n[新聞] 何鴻燊傳奇曾拍成電影！劉德華受本尊激 iverson028  5/27\n[新聞] 台北電影節焦點影人大林宣彥 日本破格名導一生奉獻電影 qpr322  5/27\n[請益] 蝙蝠俠：開戰時刻的小地方疑問 AceKiller  5/27\n[問片] 中共有關紀錄片 frv  5/27\n[新聞] 【神鬼認證】系列製片透露重啟可能 kenny1300175  5/27\n[新聞] 詹姆斯岡恩力挺《自殺突擊隊》艾亞版 shen0348  5/27\nRe: [新聞] 何鴻燊傳奇曾拍成電影！劉德華受本尊激 chirex  5/27\n[情報] 國家電影中心4部修復與自製電影免費看 a031405  5/27\n[公告] 板規 2020/03/01 (增加14.1) ckshchen  6/04\n[公告] 板規新增每日發文上限規定 hhwang  8/15\n[公告] 關於跑步哥 ckshchen  1/11\n[情報] 近期院線預計重映片單 lgng66133  5/13\n[公告] 板主選舉 hhwang  5/24\n"
    }
   ],
   "source": [
    "url = 'https://www.ptt.cc/bbs/movie/index.html'\n",
    "r = requests.get(url)\n",
    "\n",
    "soup = BeautifulSoup(r.text, \"html5lib\")\n",
    "for in_dex in soup.find_all(class_=\"r-ent\"): \n",
    "    try:\n",
    "        print(in_dex.find(class_=\"title\").find('a').text, end=' ')\n",
    "        print(in_dex.find(class_=\"author\").text, end=' ')\n",
    "        print(in_dex.find(class_=\"date\").text)\n",
    "    except:\n",
    "        continue\n",
    "\n"
   ]
  },
  {
   "cell_type": "code",
   "execution_count": null,
   "metadata": {},
   "outputs": [],
   "source": []
  }
 ],
 "metadata": {
  "kernelspec": {
   "display_name": "Python 3",
   "language": "python",
   "name": "python3"
  },
  "language_info": {
   "codemirror_mode": {
    "name": "ipython",
    "version": 3
   },
   "file_extension": ".py",
   "mimetype": "text/x-python",
   "name": "python",
   "nbconvert_exporter": "python",
   "pygments_lexer": "ipython3",
   "version": "3.6.8-final"
  }
 },
 "nbformat": 4,
 "nbformat_minor": 2
}